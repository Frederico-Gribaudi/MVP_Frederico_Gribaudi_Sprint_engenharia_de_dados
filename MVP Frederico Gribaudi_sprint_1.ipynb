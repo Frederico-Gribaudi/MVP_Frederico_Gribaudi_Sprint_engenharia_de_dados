{
 "cells": [
  {
   "cell_type": "markdown",
   "metadata": {
    "application/vnd.databricks.v1+cell": {
     "cellMetadata": {},
     "inputWidgets": {},
     "nuid": "dffafcaf-4234-41fc-9a08-a190667e2439",
     "showTitle": false,
     "tableResultSettingsMap": {},
     "title": ""
    }
   },
   "source": [
    "### **Extração da tabela de artilheiros**"
   ]
  },
  {
   "cell_type": "markdown",
   "metadata": {
    "application/vnd.databricks.v1+cell": {
     "cellMetadata": {},
     "inputWidgets": {},
     "nuid": "a088abd2-13a3-4d29-8d35-d9b516ed0603",
     "showTitle": false,
     "tableResultSettingsMap": {},
     "title": ""
    }
   },
   "source": [
    "**1 - Extraindo as tabelas de artilharia do site transfermarkt**"
   ]
  },
  {
   "cell_type": "markdown",
   "metadata": {
    "application/vnd.databricks.v1+cell": {
     "cellMetadata": {},
     "inputWidgets": {},
     "nuid": "ec742b09-2c5b-431b-b69c-0c446fde51e6",
     "showTitle": false,
     "tableResultSettingsMap": {},
     "title": ""
    }
   },
   "source": [
    "Essa etapa foi feita no ambiente google colab, abaixo está apenas o código usado."
   ]
  },
  {
   "cell_type": "code",
   "execution_count": 0,
   "metadata": {
    "application/vnd.databricks.v1+cell": {
     "cellMetadata": {
      "byteLimit": 2048000,
      "rowLimit": 10000
     },
     "inputWidgets": {},
     "nuid": "21ed283b-97ae-439b-a2cb-3a5596b08970",
     "showTitle": true,
     "tableResultSettingsMap": {},
     "title": "Essa etapa foi feita no ambiente google colab"
    }
   },
   "outputs": [],
   "source": [
    "import requests\n",
    "from bs4 import BeautifulSoup\n",
    "import csv\n",
    "import time\n",
    "import random\n",
    "\n",
    "# Função para buscar dados de uma página específica\n",
    "def get_page_data(page_num, season, seen_players):\n",
    "    url = f'https://www.transfermarkt.com.br/serie-a/torschuetzenliste/wettbewerb/IT1/ajax/yw1/saison_id/{season}/page/{page_num}/sort/goal'\n",
    "\n",
    "    # Define os headers para simular um navegador web\n",
    "    headers = {\n",
    "        'User-Agent': 'Mozilla/5.0 (Windows NT 10.0; Win64; x64) AppleWebKit/537.36 (KHTML, like Gecko) Chrome/114.0.0.0 Safari/537.36'\n",
    "    }\n",
    "\n",
    "    # Envia a requisição para obter o conteúdo da página\n",
    "    response = requests.get(url, headers=headers)\n",
    "\n",
    "    # Checa se a requisição foi bem-sucedida\n",
    "    try:\n",
    "        response.raise_for_status()\n",
    "    except requests.exceptions.HTTPError as err:\n",
    "        print(f\"Erro HTTP: {err}\")\n",
    "        return [], False  # Retorna uma lista vazia se houver erro\n",
    "\n",
    "    # Parseia o HTML da página\n",
    "    soup = BeautifulSoup(response.text, 'html.parser')\n",
    "\n",
    "    # Localiza a tabela de artilheiros\n",
    "    table = soup.find('table', {'class': 'items'})\n",
    "    if not table:\n",
    "        return [], False  # Se a tabela não for encontrada, retorna uma lista vazia e False\n",
    "\n",
    "    # Extrai os dados da tabela\n",
    "    players_data = []\n",
    "\n",
    "    for row in table.find_all('tr')[1:]:  # Ignora o cabeçalho da tabela (linha 0)\n",
    "        cols = row.find_all('td')\n",
    "        if len(cols) >= 8:  # Garantir que há dados na linha\n",
    "            ranking = cols[0].text.strip()  # Posição no ranking\n",
    "            player = cols[1].text.strip().split('\\n\\n\\n')[0]  # Nome do jogador\n",
    "            position = cols[1].text.strip().split('\\n\\n\\n')[1]  # Posição do jogador\n",
    "            goals = cols[9].text.strip()  # Gols\n",
    "            matches = cols[8].text.strip()  # Número de partidas\n",
    "\n",
    "            # Verifica se o jogador já foi adicionado\n",
    "            if player not in seen_players:\n",
    "                seen_players.add(player)  # Marca o jogador como visto\n",
    "                players_data.append((ranking, player, position, goals, matches))\n",
    "\n",
    "    return players_data\n",
    "\n",
    "# Função principal para buscar dados de todas as páginas (1 até 12) e salvar em CSV\n",
    "def scrape_and_save_to_csv(season, file_name):\n",
    "    all_players_data = []\n",
    "    seen_players = set()  # Cria um conjunto para armazenar jogadores já vistos\n",
    "\n",
    "    # Loop de 1 a 12 para pegar as páginas\n",
    "    for page_num in range(1, 13):  # A partir da página 1 até a 12\n",
    "        print(f'Buscando dados da página {page_num} para a temporada {season}...')\n",
    "        players_data = get_page_data(page_num, season, seen_players)\n",
    "\n",
    "        if not players_data:\n",
    "            print(f'Não há dados ou erro na página {page_num} da temporada {season}.')\n",
    "            break  # Se não retornar dados, paramos\n",
    "\n",
    "        all_players_data.extend(players_data)\n",
    "\n",
    "        time.sleep(random.uniform(1, 3))  # Atraso aleatório entre as requisições\n",
    "\n",
    "    # Exporta os dados para um arquivo CSV com o nome especificado\n",
    "    with open(file_name, mode='w', newline='', encoding='utf-8') as file:\n",
    "        writer = csv.writer(file)\n",
    "        writer.writerow(['Ranking', 'Jogador', 'Posição', 'Gols', 'Partidas'])  # Cabeçalho\n",
    "        writer.writerows(all_players_data)  # Escreve os dados\n",
    "\n",
    "    print(f'Dados exportados para \"{file_name}\"')\n",
    "\n",
    "# Função para fazer o scraping para todas as temporadas entre 2010 e 2023\n",
    "def scrape_all_seasons():\n",
    "    for season in range(2010, 2024):  # Temporadas de 2010 até 2023\n",
    "        file_name = f'artilheiros_serie_a_{season}.csv'  # Nome do arquivo CSV com base na temporada\n",
    "        scrape_and_save_to_csv(season, file_name)\n",
    "\n",
    "# Chama a função para fazer o scraping de todas as temporadas\n",
    "scrape_all_seasons()\n"
   ]
  },
  {
   "cell_type": "markdown",
   "metadata": {
    "application/vnd.databricks.v1+cell": {
     "cellMetadata": {},
     "inputWidgets": {},
     "nuid": "1f4f6649-9c55-4ea6-8b29-68b40e08ff55",
     "showTitle": false,
     "tableResultSettingsMap": {},
     "title": ""
    }
   },
   "source": [
    "### **Carga da tabela de artilheiros**"
   ]
  },
  {
   "cell_type": "markdown",
   "metadata": {
    "application/vnd.databricks.v1+cell": {
     "cellMetadata": {
      "byteLimit": 2048000,
      "rowLimit": 10000
     },
     "inputWidgets": {},
     "nuid": "80332235-3342-4ea4-8f74-1ac08cc9c637",
     "showTitle": false,
     "tableResultSettingsMap": {},
     "title": ""
    }
   },
   "source": [
    "**2 - Importando CSV de Artilheiros**\n",
    "\n",
    "\n",
    "Foi feito um \"upload data to dbfs\" dos arquivos gerados pelo código acima. "
   ]
  },
  {
   "cell_type": "code",
   "execution_count": 0,
   "metadata": {
    "application/vnd.databricks.v1+cell": {
     "cellMetadata": {
      "byteLimit": 2048000,
      "rowLimit": 10000
     },
     "inputWidgets": {},
     "nuid": "0d9bd3f6-e119-4bde-a6a6-af89f4f63794",
     "showTitle": false,
     "tableResultSettingsMap": {},
     "title": ""
    }
   },
   "outputs": [],
   "source": [
    "art2010 = spark.read.format(\"csv\").option(\"header\", \"true\").load(\"dbfs:/FileStore/artilheiros/artilheiros_serie_a_2010.csv\")\n",
    "art2011 = spark.read.format(\"csv\").option(\"header\", \"true\").load(\"dbfs:/FileStore/artilheiros/artilheiros_serie_a_2011.csv\")\n",
    "art2012 = spark.read.format(\"csv\").option(\"header\", \"true\").load(\"dbfs:/FileStore/artilheiros/artilheiros_serie_a_2012.csv\")\n",
    "art2013 = spark.read.format(\"csv\").option(\"header\", \"true\").load(\"dbfs:/FileStore/artilheiros/artilheiros_serie_a_2013.csv\")\n",
    "art2014 = spark.read.format(\"csv\").option(\"header\", \"true\").load(\"dbfs:/FileStore/artilheiros/artilheiros_serie_a_2014.csv\")\n",
    "art2015 = spark.read.format(\"csv\").option(\"header\", \"true\").load(\"dbfs:/FileStore/artilheiros/artilheiros_serie_a_2015.csv\")\n",
    "art2016 = spark.read.format(\"csv\").option(\"header\", \"true\").load(\"dbfs:/FileStore/artilheiros/artilheiros_serie_a_2016.csv\")\n",
    "art2017 = spark.read.format(\"csv\").option(\"header\", \"true\").load(\"dbfs:/FileStore/artilheiros/artilheiros_serie_a_2017.csv\")\n",
    "art2018 = spark.read.format(\"csv\").option(\"header\", \"true\").load(\"dbfs:/FileStore/artilheiros/artilheiros_serie_a_2018.csv\")\n",
    "art2019 = spark.read.format(\"csv\").option(\"header\", \"true\").load(\"dbfs:/FileStore/artilheiros/artilheiros_serie_a_2019.csv\")\n",
    "art2020 = spark.read.format(\"csv\").option(\"header\", \"true\").load(\"dbfs:/FileStore/artilheiros/artilheiros_serie_a_2020.csv\")\n",
    "art2021 = spark.read.format(\"csv\").option(\"header\", \"true\").load(\"dbfs:/FileStore/artilheiros/artilheiros_serie_a_2021.csv\")\n",
    "art2022 = spark.read.format(\"csv\").option(\"header\", \"true\").load(\"dbfs:/FileStore/artilheiros/artilheiros_serie_a_2022.csv\")\n",
    "art2023 = spark.read.format(\"csv\").option(\"header\", \"true\").load(\"dbfs:/FileStore/artilheiros/artilheiros_serie_a_2023.csv\")\n"
   ]
  },
  {
   "cell_type": "markdown",
   "metadata": {
    "application/vnd.databricks.v1+cell": {
     "cellMetadata": {},
     "inputWidgets": {},
     "nuid": "3ddc4d97-a111-4866-abcc-8d0d12b89cd0",
     "showTitle": false,
     "tableResultSettingsMap": {},
     "title": ""
    }
   },
   "source": [
    "### **Transformação da tabela de artilheiros**"
   ]
  },
  {
   "cell_type": "markdown",
   "metadata": {
    "application/vnd.databricks.v1+cell": {
     "cellMetadata": {},
     "inputWidgets": {},
     "nuid": "8db1adda-5321-47f6-88fa-68fa4a959fa6",
     "showTitle": false,
     "tableResultSettingsMap": {},
     "title": ""
    }
   },
   "source": [
    "Ajustando as colunas e a temporada"
   ]
  },
  {
   "cell_type": "code",
   "execution_count": 0,
   "metadata": {
    "application/vnd.databricks.v1+cell": {
     "cellMetadata": {
      "byteLimit": 2048000,
      "rowLimit": 10000
     },
     "inputWidgets": {},
     "nuid": "1cd40803-5437-49ee-a44e-0257bad70ee8",
     "showTitle": true,
     "tableResultSettingsMap": {},
     "title": "Ajustando colunas e a temporada"
    }
   },
   "outputs": [],
   "source": [
    "from pyspark.sql.functions import col, lit\n",
    "\n",
    "# Função para ajustar o tipo de dados das colunas, renomear a coluna 'posição' para 'posicao' e adicionar a coluna temporada\n",
    "def ajustar_tipos(df):\n",
    "    return df \\\n",
    "        .withColumn(\"ranking\", col(\"ranking\").cast(\"int\")) \\\n",
    "        .withColumn(\"gols\", col(\"gols\").cast(\"int\")) \\\n",
    "        .withColumn(\"partidas\", col(\"partidas\").cast(\"int\")) \\\n",
    "        .withColumnRenamed(\"posição\", \"posicao\")  # Renomeando a coluna \"posição\" para \"posicao\"\n",
    "\n",
    "# Aplicando a função para ajustar os tipos de dados nas tabelas (para cada ano)\n",
    "art2010 = ajustar_tipos(art2010).withColumn(\"temporada\", lit(\"2010-2011\"))\n",
    "art2011 = ajustar_tipos(art2011).withColumn(\"temporada\", lit(\"2011-2012\"))\n",
    "art2012 = ajustar_tipos(art2012).withColumn(\"temporada\", lit(\"2012-2013\"))\n",
    "art2013 = ajustar_tipos(art2013).withColumn(\"temporada\", lit(\"2013-2014\"))\n",
    "art2014 = ajustar_tipos(art2014).withColumn(\"temporada\", lit(\"2014-2015\"))\n",
    "art2015 = ajustar_tipos(art2015).withColumn(\"temporada\", lit(\"2015-2016\"))\n",
    "art2016 = ajustar_tipos(art2016).withColumn(\"temporada\", lit(\"2016-2017\"))\n",
    "art2017 = ajustar_tipos(art2017).withColumn(\"temporada\", lit(\"2017-2018\"))\n",
    "art2018 = ajustar_tipos(art2018).withColumn(\"temporada\", lit(\"2018-2019\"))\n",
    "art2019 = ajustar_tipos(art2019).withColumn(\"temporada\", lit(\"2019-2020\"))\n",
    "art2020 = ajustar_tipos(art2020).withColumn(\"temporada\", lit(\"2020-2021\"))\n",
    "art2021 = ajustar_tipos(art2021).withColumn(\"temporada\", lit(\"2021-2022\"))\n",
    "art2022 = ajustar_tipos(art2022).withColumn(\"temporada\", lit(\"2022-2023\"))\n",
    "art2023 = ajustar_tipos(art2023).withColumn(\"temporada\", lit(\"2023-2024\"))\n"
   ]
  },
  {
   "cell_type": "markdown",
   "metadata": {
    "application/vnd.databricks.v1+cell": {
     "cellMetadata": {},
     "inputWidgets": {},
     "nuid": "2ac9991f-65a6-4c25-b239-8fadbd42c1a6",
     "showTitle": false,
     "tableResultSettingsMap": {},
     "title": ""
    }
   },
   "source": [
    "Criando uma única tabela com todos os artilheiros"
   ]
  },
  {
   "cell_type": "code",
   "execution_count": 0,
   "metadata": {
    "application/vnd.databricks.v1+cell": {
     "cellMetadata": {
      "byteLimit": 2048000,
      "rowLimit": 10000
     },
     "inputWidgets": {},
     "nuid": "055836e5-52c2-4476-905c-f5f89ea86ba5",
     "showTitle": true,
     "tableResultSettingsMap": {},
     "title": "Criando uma tabela com todos os artilheiros"
    }
   },
   "outputs": [],
   "source": [
    "tabela_artilheiros = art2010.union(art2011).union(art2012).union(art2013).union(art2014).union(art2015).union(art2016).union(art2017).union(art2018).union(art2019).union(art2020).union(art2021).union(art2022).union(art2023)\n"
   ]
  },
  {
   "cell_type": "markdown",
   "metadata": {
    "application/vnd.databricks.v1+cell": {
     "cellMetadata": {
      "byteLimit": 2048000,
      "rowLimit": 10000
     },
     "inputWidgets": {},
     "nuid": "543e8297-a272-405a-bb1f-05e54447eb81",
     "showTitle": false,
     "tableResultSettingsMap": {},
     "title": ""
    }
   },
   "source": [
    "--------------------------------------------------------------------------------------------"
   ]
  },
  {
   "cell_type": "markdown",
   "metadata": {
    "application/vnd.databricks.v1+cell": {
     "cellMetadata": {
      "byteLimit": 2048000,
      "rowLimit": 10000
     },
     "inputWidgets": {},
     "nuid": "310f4f05-35a7-4dc4-93f5-2bcc167c3c34",
     "showTitle": false,
     "tableResultSettingsMap": {},
     "title": ""
    }
   },
   "source": [
    "**3 - Testando a qualidade dos dados de artilharia importados**"
   ]
  },
  {
   "cell_type": "markdown",
   "metadata": {
    "application/vnd.databricks.v1+cell": {
     "cellMetadata": {},
     "inputWidgets": {},
     "nuid": "85134188-5cc5-4dee-8cad-dbcaa4b15c69",
     "showTitle": false,
     "tableResultSettingsMap": {},
     "title": ""
    }
   },
   "source": [
    "Checar se existem jogadores repetidos na mesma temporada:"
   ]
  },
  {
   "cell_type": "code",
   "execution_count": 0,
   "metadata": {
    "application/vnd.databricks.v1+cell": {
     "cellMetadata": {
      "byteLimit": 2048000,
      "rowLimit": 10000
     },
     "inputWidgets": {},
     "nuid": "ec9837c6-cdaf-49f2-ae14-e94c210177ff",
     "showTitle": true,
     "tableResultSettingsMap": {},
     "title": "Checar jogadores repetidos"
    }
   },
   "outputs": [
    {
     "output_type": "stream",
     "name": "stdout",
     "output_type": "stream",
     "text": [
      "+-------+---------+-----+\n|jogador|temporada|count|\n+-------+---------+-----+\n+-------+---------+-----+\n\n"
     ]
    }
   ],
   "source": [
    "#Não podem existir jogadores com o mesmo nome na mesma temporada\n",
    "tabela_artilheiros.groupBy(\"jogador\",\"temporada\").count().filter(\"count > 1\").show()"
   ]
  },
  {
   "cell_type": "markdown",
   "metadata": {
    "application/vnd.databricks.v1+cell": {
     "cellMetadata": {},
     "inputWidgets": {},
     "nuid": "e78e82a2-f165-43c4-9585-d985ca2afd2f",
     "showTitle": false,
     "tableResultSettingsMap": {},
     "title": ""
    }
   },
   "source": [
    "Checar partidas maiores que 38 ou negativas:"
   ]
  },
  {
   "cell_type": "code",
   "execution_count": 0,
   "metadata": {
    "application/vnd.databricks.v1+cell": {
     "cellMetadata": {
      "byteLimit": 2048000,
      "rowLimit": 10000
     },
     "inputWidgets": {},
     "nuid": "607fc689-a455-4227-a9ba-d8e595b1a97d",
     "showTitle": true,
     "tableResultSettingsMap": {},
     "title": "Checar partidas maiores que 38 ou negativas"
    }
   },
   "outputs": [
    {
     "output_type": "stream",
     "name": "stdout",
     "output_type": "stream",
     "text": [
      "+-------+-------+-------+----+--------+---------+\n|ranking|Jogador|posicao|gols|partidas|temporada|\n+-------+-------+-------+----+--------+---------+\n+-------+-------+-------+----+--------+---------+\n\n"
     ]
    }
   ],
   "source": [
    "#Em uma temporada só existem 38 partidas\n",
    "tabela_artilheiros.filter((col(\"partidas\") > 38) |(col(\"partidas\") < 0)) .show()\n"
   ]
  },
  {
   "cell_type": "markdown",
   "metadata": {
    "application/vnd.databricks.v1+cell": {
     "cellMetadata": {},
     "inputWidgets": {},
     "nuid": "df12179a-1b95-4d85-bbfe-eacb8c97411d",
     "showTitle": false,
     "tableResultSettingsMap": {},
     "title": ""
    }
   },
   "source": [
    "Checar gols negativos:"
   ]
  },
  {
   "cell_type": "code",
   "execution_count": 0,
   "metadata": {
    "application/vnd.databricks.v1+cell": {
     "cellMetadata": {
      "byteLimit": 2048000,
      "rowLimit": 10000
     },
     "inputWidgets": {},
     "nuid": "f0400c18-a760-4d34-a90d-ebd693d4bf57",
     "showTitle": true,
     "tableResultSettingsMap": {},
     "title": "Checar gols negativos"
    }
   },
   "outputs": [
    {
     "output_type": "stream",
     "name": "stdout",
     "output_type": "stream",
     "text": [
      "+-------+-------+-------+----+--------+---------+\n|ranking|Jogador|posicao|gols|partidas|temporada|\n+-------+-------+-------+----+--------+---------+\n+-------+-------+-------+----+--------+---------+\n\n"
     ]
    }
   ],
   "source": [
    "#Checar gols negativos\n",
    "\n",
    "#Não podem existir valores negativos de gols\n",
    "tabela_artilheiros.filter(col(\"gols\") < 0).show()"
   ]
  },
  {
   "cell_type": "markdown",
   "metadata": {
    "application/vnd.databricks.v1+cell": {
     "cellMetadata": {},
     "inputWidgets": {},
     "nuid": "c01a3a41-05ac-43e5-8164-81989cf00003",
     "showTitle": false,
     "tableResultSettingsMap": {},
     "title": ""
    }
   },
   "source": [
    "Checar valores nulos:"
   ]
  },
  {
   "cell_type": "code",
   "execution_count": 0,
   "metadata": {
    "application/vnd.databricks.v1+cell": {
     "cellMetadata": {
      "byteLimit": 2048000,
      "rowLimit": 10000
     },
     "inputWidgets": {},
     "nuid": "e9920d48-0df4-4d18-8a6e-d426b0b5439f",
     "showTitle": true,
     "tableResultSettingsMap": {},
     "title": "Checar valores nulos"
    }
   },
   "outputs": [
    {
     "output_type": "stream",
     "name": "stdout",
     "output_type": "stream",
     "text": [
      "+-------+-------+-------+----+--------+---------+\n|ranking|Jogador|posicao|gols|partidas|temporada|\n+-------+-------+-------+----+--------+---------+\n|      0|      0|      0|   0|       0|        0|\n+-------+-------+-------+----+--------+---------+\n\n"
     ]
    }
   ],
   "source": [
    "#Não podem existir valores nulos na tabela\n",
    "from pyspark.sql import functions as F\n",
    "\n",
    "tabela_artilheiros.select([F.count(F.when(F.isnull(c), c)).alias(c) for c in tabela_artilheiros.columns]).show()"
   ]
  },
  {
   "cell_type": "markdown",
   "metadata": {
    "application/vnd.databricks.v1+cell": {
     "cellMetadata": {},
     "inputWidgets": {},
     "nuid": "36bca811-ba68-4ab2-8992-58be34f7905b",
     "showTitle": false,
     "tableResultSettingsMap": {},
     "title": ""
    }
   },
   "source": [
    "Checar valores iguais a 0:"
   ]
  },
  {
   "cell_type": "code",
   "execution_count": 0,
   "metadata": {
    "application/vnd.databricks.v1+cell": {
     "cellMetadata": {
      "byteLimit": 2048000,
      "rowLimit": 10000
     },
     "inputWidgets": {},
     "nuid": "196ec3f5-da7a-4574-b970-de6e75bef18f",
     "showTitle": true,
     "tableResultSettingsMap": {},
     "title": "Checar valores iguais a 0"
    }
   },
   "outputs": [
    {
     "output_type": "stream",
     "name": "stdout",
     "output_type": "stream",
     "text": [
      "+-------+-------+-------+----+--------+---------+\n|ranking|Jogador|posicao|gols|partidas|temporada|\n+-------+-------+-------+----+--------+---------+\n|      0|      0|      0|   0|       0|        0|\n+-------+-------+-------+----+--------+---------+\n\n"
     ]
    }
   ],
   "source": [
    "#Não podem existir valores 0 na tabela\n",
    "from pyspark.sql.functions import count, when\n",
    "\n",
    "zeros = tabela_artilheiros.select([count(when(col(c) == 0, c)).alias(c) for c in tabela_artilheiros.columns])\n",
    "\n",
    "zeros.show()"
   ]
  },
  {
   "cell_type": "markdown",
   "metadata": {
    "application/vnd.databricks.v1+cell": {
     "cellMetadata": {
      "byteLimit": 2048000,
      "rowLimit": 10000
     },
     "inputWidgets": {},
     "nuid": "348739f0-4abe-4fa6-ac03-a62c4fc24e01",
     "showTitle": false,
     "tableResultSettingsMap": {},
     "title": ""
    }
   },
   "source": [
    "--------------------------------------------------------------------------------------------"
   ]
  },
  {
   "cell_type": "markdown",
   "metadata": {
    "application/vnd.databricks.v1+cell": {
     "cellMetadata": {
      "byteLimit": 2048000,
      "rowLimit": 10000
     },
     "inputWidgets": {},
     "nuid": "cb7b1c04-04ae-48d4-9236-56b254f4874c",
     "showTitle": false,
     "tableResultSettingsMap": {},
     "title": ""
    }
   },
   "source": [
    "**4 - Respondendo as perguntas sobre artilharia**"
   ]
  },
  {
   "cell_type": "markdown",
   "metadata": {
    "application/vnd.databricks.v1+cell": {
     "cellMetadata": {},
     "inputWidgets": {},
     "nuid": "7b6a1e67-f827-4294-8e2b-cf387576492c",
     "showTitle": false,
     "tableResultSettingsMap": {},
     "title": ""
    }
   },
   "source": [
    "**Quais os jogadores com mais gols?**"
   ]
  },
  {
   "cell_type": "code",
   "execution_count": 0,
   "metadata": {
    "application/vnd.databricks.v1+cell": {
     "cellMetadata": {
      "byteLimit": 2048000,
      "rowLimit": 10000
     },
     "inputWidgets": {},
     "nuid": "22b1d4f3-e1b8-4e82-802c-e9d5cf140b15",
     "showTitle": true,
     "tableResultSettingsMap": {},
     "title": "Jogadores com mais gols"
    }
   },
   "outputs": [
    {
     "output_type": "stream",
     "name": "stdout",
     "output_type": "stream",
     "text": [
      "+-------------------+----------+--------------+----------------------+\n|            jogador|total_gols|total_partidas|media_gols_por_partida|\n+-------------------+----------+--------------+----------------------+\n|     Ciro Immobile |       201|           350|    0.5742857142857143|\n|Fabio Quagliarella |       130|           376|   0.34574468085106386|\n|   Gonzalo Higuaín |       125|           224|    0.5580357142857143|\n|      Paulo Dybala |       123|           324|   0.37962962962962965|\n|  Domenico Berardi |       122|           314|    0.3885350318471338|\n|      Mauro Icardi |       121|           219|    0.5525114155251142|\n|      Duván Zapata |       121|           319|    0.3793103448275862|\n|     Dries Mertens |       113|           295|   0.38305084745762713|\n|    Andrea Belotti |       112|           299|    0.3745819397993311|\n| Antonio Di Natale |       107|           193|    0.5544041450777202|\n|        Edin Džeko |       107|           268|   0.39925373134328357|\n|       Luis Muriel |       103|           328|   0.31402439024390244|\n|  Lautaro Martínez |       103|           206|                   0.5|\n|      Josip Ilicic |        96|           339|    0.2831858407079646|\n|   Lorenzo Insigne |        96|           336|    0.2857142857142857|\n|     Mattia Destro |        91|           291|    0.3127147766323024|\n|   Rodrigo Palacio |        86|           311|    0.2765273311897106|\n|  Antonio Candreva |        83|           428|    0.1939252336448598|\n| Cristiano Ronaldo |        81|            97|    0.8350515463917526|\n|    Edinson Cavani |        78|           104|                  0.75|\n+-------------------+----------+--------------+----------------------+\nonly showing top 20 rows\n\n"
     ]
    }
   ],
   "source": [
    "# Registrar o DataFrame como uma view temporária\n",
    "tabela_artilheiros.createOrReplaceTempView(\"gols_por_jogador\")\n",
    "\n",
    "# Comando SQL para somar os gols, somar as partidas e calcular a média de gols por partida\n",
    "query = \"\"\"\n",
    "    SELECT\n",
    "        jogador,\n",
    "        SUM(gols) AS total_gols,\n",
    "        SUM(partidas) AS total_partidas,\n",
    "        SUM(gols) / SUM(partidas) AS media_gols_por_partida\n",
    "    FROM gols_por_jogador\n",
    "    GROUP BY jogador\n",
    "    ORDER BY total_gols DESC\n",
    "\"\"\"\n",
    "\n",
    "# Executando a consulta SQL no PySpark\n",
    "gols_por_jogador = spark.sql(query)\n",
    "\n",
    "# Exibindo o resultado\n",
    "gols_por_jogador.show()\n"
   ]
  },
  {
   "cell_type": "markdown",
   "metadata": {
    "application/vnd.databricks.v1+cell": {
     "cellMetadata": {},
     "inputWidgets": {},
     "nuid": "ca714b44-76db-4add-938f-121267915160",
     "showTitle": false,
     "tableResultSettingsMap": {},
     "title": ""
    }
   },
   "source": [
    "**Qual jogador fez mais gols?**"
   ]
  },
  {
   "cell_type": "code",
   "execution_count": 0,
   "metadata": {
    "application/vnd.databricks.v1+cell": {
     "cellMetadata": {
      "byteLimit": 2048000,
      "rowLimit": 10000
     },
     "inputWidgets": {},
     "nuid": "bfd17860-4ef2-408d-a622-77d24ca17162",
     "showTitle": true,
     "tableResultSettingsMap": {},
     "title": "Qual jogador fez mais gols?"
    }
   },
   "outputs": [
    {
     "output_type": "stream",
     "name": "stdout",
     "output_type": "stream",
     "text": [
      "+--------------+----------+--------------+----------------------+\n|       jogador|total_gols|total_partidas|media_gols_por_partida|\n+--------------+----------+--------------+----------------------+\n|Ciro Immobile |       201|           350|    0.5742857142857143|\n+--------------+----------+--------------+----------------------+\nonly showing top 1 row\n\n"
     ]
    }
   ],
   "source": [
    "#A consulta abaixo trará o nome do jogador que fez mais gols.\n",
    "gols_por_jogador.show(1)"
   ]
  },
  {
   "cell_type": "markdown",
   "metadata": {
    "application/vnd.databricks.v1+cell": {
     "cellMetadata": {},
     "inputWidgets": {},
     "nuid": "81b4e419-6fcf-4f9d-82ab-997ee44f1c03",
     "showTitle": false,
     "tableResultSettingsMap": {},
     "title": ""
    }
   },
   "source": [
    "**Quais os artilheiros de cada temporada?**"
   ]
  },
  {
   "cell_type": "code",
   "execution_count": 0,
   "metadata": {
    "application/vnd.databricks.v1+cell": {
     "cellMetadata": {
      "byteLimit": 2048000,
      "rowLimit": 10000
     },
     "inputWidgets": {},
     "nuid": "3cfd4c51-4318-4acd-adae-321eb5fb630a",
     "showTitle": true,
     "tableResultSettingsMap": {},
     "title": "Lista de artilheiros"
    }
   },
   "outputs": [
    {
     "output_type": "display_data",
     "data": {
      "text/html": [
       "<style scoped>\n",
       "  .table-result-container {\n",
       "    max-height: 300px;\n",
       "    overflow: auto;\n",
       "  }\n",
       "  table, th, td {\n",
       "    border: 1px solid black;\n",
       "    border-collapse: collapse;\n",
       "  }\n",
       "  th, td {\n",
       "    padding: 5px;\n",
       "  }\n",
       "  th {\n",
       "    text-align: left;\n",
       "  }\n",
       "</style><div class='table-result-container'><table class='table-result'><thead style='background-color: white'><tr><th>jogador</th><th>temporada</th><th>ranking</th><th>gols</th></tr></thead><tbody><tr><td>Antonio Di Natale </td><td>2010-2011</td><td>1</td><td>28</td></tr><tr><td>Zlatan Ibrahimović </td><td>2011-2012</td><td>1</td><td>28</td></tr><tr><td>Edinson Cavani </td><td>2012-2013</td><td>1</td><td>29</td></tr><tr><td>Ciro Immobile </td><td>2013-2014</td><td>1</td><td>22</td></tr><tr><td>Mauro Icardi </td><td>2014-2015</td><td>1</td><td>22</td></tr><tr><td>Gonzalo Higuaín </td><td>2015-2016</td><td>1</td><td>36</td></tr><tr><td>Edin Džeko </td><td>2016-2017</td><td>1</td><td>29</td></tr><tr><td>Ciro Immobile </td><td>2017-2018</td><td>1</td><td>29</td></tr><tr><td>Fabio Quagliarella </td><td>2018-2019</td><td>1</td><td>26</td></tr><tr><td>Ciro Immobile </td><td>2019-2020</td><td>1</td><td>36</td></tr><tr><td>Cristiano Ronaldo </td><td>2020-2021</td><td>1</td><td>29</td></tr><tr><td>Ciro Immobile </td><td>2021-2022</td><td>1</td><td>27</td></tr><tr><td>Victor Osimhen </td><td>2022-2023</td><td>1</td><td>26</td></tr><tr><td>Lautaro Martínez </td><td>2023-2024</td><td>1</td><td>24</td></tr></tbody></table></div>"
      ]
     },
     "metadata": {
      "application/vnd.databricks.v1+output": {
       "addedWidgets": {},
       "aggData": [],
       "aggError": "",
       "aggOverflow": false,
       "aggSchema": [],
       "aggSeriesLimitReached": false,
       "aggType": "",
       "arguments": {},
       "columnCustomDisplayInfos": {},
       "data": [
        [
         "Antonio Di Natale ",
         "2010-2011",
         1,
         28
        ],
        [
         "Zlatan Ibrahimović ",
         "2011-2012",
         1,
         28
        ],
        [
         "Edinson Cavani ",
         "2012-2013",
         1,
         29
        ],
        [
         "Ciro Immobile ",
         "2013-2014",
         1,
         22
        ],
        [
         "Mauro Icardi ",
         "2014-2015",
         1,
         22
        ],
        [
         "Gonzalo Higuaín ",
         "2015-2016",
         1,
         36
        ],
        [
         "Edin Džeko ",
         "2016-2017",
         1,
         29
        ],
        [
         "Ciro Immobile ",
         "2017-2018",
         1,
         29
        ],
        [
         "Fabio Quagliarella ",
         "2018-2019",
         1,
         26
        ],
        [
         "Ciro Immobile ",
         "2019-2020",
         1,
         36
        ],
        [
         "Cristiano Ronaldo ",
         "2020-2021",
         1,
         29
        ],
        [
         "Ciro Immobile ",
         "2021-2022",
         1,
         27
        ],
        [
         "Victor Osimhen ",
         "2022-2023",
         1,
         26
        ],
        [
         "Lautaro Martínez ",
         "2023-2024",
         1,
         24
        ]
       ],
       "datasetInfos": [],
       "dbfsResultPath": null,
       "isJsonSchema": true,
       "metadata": {},
       "overflow": false,
       "plotOptions": {
        "customPlotOptions": {},
        "displayType": "table",
        "pivotAggregation": null,
        "pivotColumns": null,
        "xColumns": null,
        "yColumns": null
       },
       "removedWidgets": [],
       "schema": [
        {
         "metadata": "{}",
         "name": "jogador",
         "type": "\"string\""
        },
        {
         "metadata": "{}",
         "name": "temporada",
         "type": "\"string\""
        },
        {
         "metadata": "{}",
         "name": "ranking",
         "type": "\"integer\""
        },
        {
         "metadata": "{}",
         "name": "gols",
         "type": "\"integer\""
        }
       ],
       "type": "table"
      }
     },
     "output_type": "display_data"
    }
   ],
   "source": [
    "#A lista de artilheiros tem que necessariamente ter todos os jogadores que ficaram em primeiro no ranking de cada temporada.\n",
    "\n",
    "# Registrar o DataFrame como uma view temporária\n",
    "tabela_artilheiros.createOrReplaceTempView(\"vencedores_art_view\")\n",
    "\n",
    "# Comando SQL para somar os gols de cada jogador\n",
    "query = \"\"\"\n",
    "    SELECT \n",
    "        jogador,temporada,ranking,gols\n",
    "    FROM vencedores_art_view\n",
    "    where ranking=1\n",
    "    ORDER BY temporada ASC\n",
    "\"\"\"\n",
    "\n",
    "# Executando a consulta SQL\n",
    "lista_de_artilheiros = spark.sql(query)\n",
    "\n",
    "display(lista_de_artilheiros)"
   ]
  },
  {
   "cell_type": "markdown",
   "metadata": {
    "application/vnd.databricks.v1+cell": {
     "cellMetadata": {},
     "inputWidgets": {},
     "nuid": "09ea5086-05e7-4981-a77f-2d4175b2d379",
     "showTitle": false,
     "tableResultSettingsMap": {},
     "title": ""
    }
   },
   "source": [
    "**Qual jogador foi mais vezes artilheiro?**"
   ]
  },
  {
   "cell_type": "code",
   "execution_count": 0,
   "metadata": {
    "application/vnd.databricks.v1+cell": {
     "cellMetadata": {
      "byteLimit": 2048000,
      "rowLimit": 10000
     },
     "inputWidgets": {},
     "nuid": "c734b072-29e6-4ae8-a67a-1521aa5f8e67",
     "showTitle": true,
     "tableResultSettingsMap": {},
     "title": "Qual jogador foi mais vezes artilheiro?"
    }
   },
   "outputs": [
    {
     "output_type": "stream",
     "name": "stdout",
     "output_type": "stream",
     "text": [
      "+--------------+-----+\n|       jogador|count|\n+--------------+-----+\n|Ciro Immobile |    4|\n+--------------+-----+\nonly showing top 1 row\n\n"
     ]
    }
   ],
   "source": [
    "# Filtrar os jogadores que estão no topo do ranking (ranking == 1)\n",
    "artilheiro = lista_de_artilheiros.filter(col(\"ranking\") == 1)\n",
    "\n",
    "# Contar quantas vezes cada jogador foi primeiro do ranking\n",
    "artilheiros_count = lista_de_artilheiros.groupBy(\"jogador\").count()\n",
    "\n",
    "# Ordenar pelo número de vezes que o jogador foi primeiro do ranking, selecionando apenas o primeiro\n",
    "artilheiros_count.orderBy(col(\"count\"), ascending=False).show(1)\n"
   ]
  },
  {
   "cell_type": "markdown",
   "metadata": {
    "application/vnd.databricks.v1+cell": {
     "cellMetadata": {},
     "inputWidgets": {},
     "nuid": "c3a33e58-0c3e-4985-bfd0-fb46c5d7cec3",
     "showTitle": false,
     "tableResultSettingsMap": {},
     "title": ""
    }
   },
   "source": [
    "**Qual a maior média total de gols por partida?**"
   ]
  },
  {
   "cell_type": "code",
   "execution_count": 0,
   "metadata": {
    "application/vnd.databricks.v1+cell": {
     "cellMetadata": {
      "byteLimit": 2048000,
      "rowLimit": 10000
     },
     "inputWidgets": {},
     "nuid": "04b177af-88e1-4f43-b06a-12184450c9c4",
     "showTitle": true,
     "tableResultSettingsMap": {},
     "title": "Qual a maior média total de gols por partida?"
    }
   },
   "outputs": [
    {
     "output_type": "stream",
     "name": "stdout",
     "output_type": "stream",
     "text": [
      "+------------------+----------------------+\n|           jogador|media_gols_por_partida|\n+------------------+----------------------+\n|Cristiano Ronaldo |    0.8350515463917526|\n+------------------+----------------------+\n\n"
     ]
    }
   ],
   "source": [
    "#A consulta abaixo trará os valores de médias de gols por jogador, analisando os resultados sem filtro, vi que existiam alguns outliers, jogadores que apenas jogaram 1 ou 2 jogos e ficaram com médias altas, por isso optei por um filtro de pelo menos 10 partidas.\n",
    "\n",
    "# Registrar o DataFrame como uma view temporária\n",
    "tabela_artilheiros.createOrReplaceTempView(\"tabela_artilheiros\")\n",
    "\n",
    "# Comando SQL para calcular a média de gols por partida, considerando um número mínimo de 10 partidas jogadas\n",
    "query = \"\"\"\n",
    "    SELECT \n",
    "        jogador,  \n",
    "        SUM(gols) / SUM(partidas) AS media_gols_por_partida\n",
    "    FROM tabela_artilheiros\n",
    "    where partidas>10\n",
    "    GROUP BY jogador\n",
    "    ORDER BY media_gols_por_partida DESC\n",
    "    LIMIT 1\n",
    "\"\"\"\n",
    "\n",
    "# Executando a consulta SQL no PySpark\n",
    "media_gols_por_partida = spark.sql(query)\n",
    "\n",
    "# Exibindo o resultado\n",
    "media_gols_por_partida.show()"
   ]
  },
  {
   "cell_type": "markdown",
   "metadata": {
    "application/vnd.databricks.v1+cell": {
     "cellMetadata": {},
     "inputWidgets": {},
     "nuid": "190c4d25-3ff5-489d-9aae-8496e9a54669",
     "showTitle": false,
     "tableResultSettingsMap": {},
     "title": ""
    }
   },
   "source": [
    "Esse filtro de 10 partidas foi necessário pois numa primeira checagem existiam alguns jogadores desconhecidos que jogaram poucas partidas e tinham feito muitos gols, ficando com uma média muito alta, ao adicionar um número mínimo de partidas os resultados ficaram mais razoáveis com o que era esperado."
   ]
  },
  {
   "cell_type": "markdown",
   "metadata": {
    "application/vnd.databricks.v1+cell": {
     "cellMetadata": {},
     "inputWidgets": {},
     "nuid": "20006d90-6939-4e79-baae-40a0a60961b7",
     "showTitle": false,
     "tableResultSettingsMap": {},
     "title": ""
    }
   },
   "source": [
    "**Qual a maior média de gols por partida por temporada?**"
   ]
  },
  {
   "cell_type": "code",
   "execution_count": 0,
   "metadata": {
    "application/vnd.databricks.v1+cell": {
     "cellMetadata": {
      "byteLimit": 2048000,
      "rowLimit": 10000
     },
     "inputWidgets": {},
     "nuid": "e3b73a28-661b-4f5b-b11c-92c8b733159c",
     "showTitle": true,
     "tableResultSettingsMap": {},
     "title": "Qual a maior média de gols por partida por temporada ?"
    }
   },
   "outputs": [
    {
     "output_type": "stream",
     "name": "stdout",
     "output_type": "stream",
     "text": [
      "+-------------------+---------+----------------------+\n|            jogador|temporada|media_gols_por_partida|\n+-------------------+---------+----------------------+\n| Antonio Di Natale |2010-2011|    0.7777777777777778|\n|Zlatan Ibrahimović |2011-2012|                 0.875|\n|   Mario Balotelli |2012-2013|    0.9230769230769231|\n|    Giuseppe Rossi |2013-2014|    0.7619047619047619|\n|      Carlos Tevez |2014-2015|                 0.625|\n|   Gonzalo Higuaín |2015-2016|    1.0285714285714285|\n|     Dries Mertens |2016-2017|                   0.8|\n|     Ciro Immobile |2017-2018|    0.8787878787878788|\n|Fabio Quagliarella |2018-2019|    0.7027027027027027|\n|     Ciro Immobile |2019-2020|     0.972972972972973|\n| Cristiano Ronaldo |2020-2021|    0.8787878787878788|\n|     Ciro Immobile |2021-2022|    0.8709677419354839|\n|    Victor Osimhen |2022-2023|                0.8125|\n|  Lautaro Martínez |2023-2024|    0.7272727272727273|\n+-------------------+---------+----------------------+\n\n"
     ]
    }
   ],
   "source": [
    "#A consulta abaixo trará a média de gols por temporada, considerando um número mínimo de partidas, para evitar outliers.\n",
    "from pyspark.sql import functions as F\n",
    "\n",
    "# Registrar o DataFrame como uma view temporária\n",
    "tabela_artilheiros.createOrReplaceTempView(\"tabela_artilheiros\")\n",
    "\n",
    "# Comando SQL para calcular a média de gols por partida e filtrar o maior de cada temporada\n",
    "query = \"\"\"\n",
    "    SELECT \n",
    "        jogador,\n",
    "        temporada,\n",
    "        media_gols_por_partida\n",
    "    FROM (\n",
    "        SELECT \n",
    "            jogador,\n",
    "            temporada,\n",
    "            SUM(gols) / SUM(partidas) AS media_gols_por_partida,\n",
    "            ROW_NUMBER() OVER (PARTITION BY temporada ORDER BY SUM(gols) / SUM(partidas) DESC) AS row_num\n",
    "        FROM tabela_artilheiros\n",
    "        where partidas>10\n",
    "        GROUP BY jogador, temporada\n",
    "    ) AS ranked\n",
    "    WHERE row_num = 1\n",
    "    ORDER BY temporada ASC\n",
    "\"\"\"\n",
    "\n",
    "# Executando a consulta SQL no PySpark\n",
    "maior_media_por_temporada = spark.sql(query)\n",
    "\n",
    "# Exibindo o resultado\n",
    "maior_media_por_temporada.show()\n"
   ]
  },
  {
   "cell_type": "markdown",
   "metadata": {
    "application/vnd.databricks.v1+cell": {
     "cellMetadata": {},
     "inputWidgets": {},
     "nuid": "a2140d7b-82a5-47cd-b542-299aebbd223f",
     "showTitle": false,
     "tableResultSettingsMap": {},
     "title": ""
    }
   },
   "source": [
    "**Qual o maior artilheiro por posição?**"
   ]
  },
  {
   "cell_type": "code",
   "execution_count": 0,
   "metadata": {
    "application/vnd.databricks.v1+cell": {
     "cellMetadata": {
      "byteLimit": 2048000,
      "implicitDf": true,
      "rowLimit": 10000
     },
     "inputWidgets": {},
     "nuid": "3590a8ee-f45e-4a17-b0cc-d1f0a6ce5078",
     "showTitle": true,
     "tableResultSettingsMap": {},
     "title": "Qual o maior artilheiro por posição?"
    }
   },
   "outputs": [
    {
     "output_type": "stream",
     "name": "stdout",
     "output_type": "stream",
     "text": [
      "+--------------+--------------------+----------+\n|       posicao|             jogador|total_gols|\n+--------------+--------------------+----------+\n|  Centroavante|      Ciro Immobile |       201|\n|       Goleiro|   Alberto Brignoli |         1|\n|  Lateral Dir.|Alessandro Florenzi |        28|\n|  Lateral Esq.|       Robin Gosens |        28|\n|  Meia Central|       Marek Hamsik |        70|\n|  Meia Direita|      Juan Cuadrado |        43|\n| Meia Esquerda|        Senad Lulic |        28|\n| Meia Ofensivo|       Josip Ilicic |        96|\n| Ponta Direita|   Domenico Berardi |       122|\n|Ponta Esquerda|    Lorenzo Insigne |        96|\n| Seg. Atacante|       Paulo Dybala |       123|\n|       Volante|   Hakan Çalhanoğlu |        45|\n|      Zagueiro|   Leonardo Bonucci |        31|\n+--------------+--------------------+----------+\n\n"
     ]
    }
   ],
   "source": [
    "#A consulta abaixo trará o jogador com maior quantidade de gols por posição\n",
    "\n",
    "# Registrar o DataFrame como uma view temporária\n",
    "tabela_artilheiros.createOrReplaceTempView(\"gols_por_posicao\")\n",
    "\n",
    "# Comando SQL para somar os gols por posição e por jogador\n",
    "query = \"\"\"\n",
    "    SELECT \n",
    "        posicao,\n",
    "        jogador,\n",
    "        SUM(gols) AS total_gols\n",
    "    FROM gols_por_posicao\n",
    "    GROUP BY posicao, jogador\n",
    "    ORDER BY posicao, total_gols DESC\n",
    "\"\"\"\n",
    "\n",
    "# Executando a consulta SQL no PySpark\n",
    "gols_por_posicao = spark.sql(query)\n",
    "\n",
    "# Agora, aplicamos o RANK() para encontrar o jogador com mais gols em cada posição\n",
    "query_com_rank = \"\"\"\n",
    "    SELECT \n",
    "        posicao,\n",
    "        jogador,\n",
    "        total_gols\n",
    "    FROM (\n",
    "        SELECT \n",
    "            posicao,\n",
    "            jogador,\n",
    "            total_gols,\n",
    "            RANK() OVER (PARTITION BY posicao ORDER BY total_gols DESC) as rank\n",
    "        FROM (\n",
    "            SELECT \n",
    "                posicao,\n",
    "                jogador,\n",
    "                SUM(gols) AS total_gols\n",
    "            FROM gols_por_posicao\n",
    "            GROUP BY posicao, jogador\n",
    "        ) t\n",
    "    ) t2\n",
    "    WHERE rank = 1\n",
    "\"\"\"\n",
    "\n",
    "# Executando a consulta SQL com RANK()\n",
    "gols_por_posicao_com_rank = spark.sql(query_com_rank)\n",
    "\n",
    "# Exibindo o resultado\n",
    "gols_por_posicao_com_rank.show()\n"
   ]
  },
  {
   "cell_type": "markdown",
   "metadata": {
    "application/vnd.databricks.v1+cell": {
     "cellMetadata": {},
     "inputWidgets": {},
     "nuid": "7d1b5abf-903e-4e23-8580-fc1d16cdd774",
     "showTitle": false,
     "tableResultSettingsMap": {},
     "title": ""
    }
   },
   "source": [
    "A pergunta abaixo eu não tinha pensado originalmente, mas checando a tabela de artilheiros achei interessante ver os destaques negativos também.\n",
    "\n",
    "**Qual o centroavante com a pior média total de gols?**"
   ]
  },
  {
   "cell_type": "code",
   "execution_count": 0,
   "metadata": {
    "application/vnd.databricks.v1+cell": {
     "cellMetadata": {
      "byteLimit": 2048000,
      "rowLimit": 10000
     },
     "inputWidgets": {},
     "nuid": "95a3d402-63e4-4f92-ab3b-15e095db68e5",
     "showTitle": true,
     "tableResultSettingsMap": {},
     "title": "Qual o centroavante com a pior média total de gols?"
    }
   },
   "outputs": [
    {
     "output_type": "stream",
     "name": "stdout",
     "output_type": "stream",
     "text": [
      "+-----------+----------------------+\n|    jogador|media_gols_por_partida|\n+-----------+----------------------+\n|Lucas Boyé |   0.03333333333333333|\n+-----------+----------------------+\n\n"
     ]
    }
   ],
   "source": [
    "#Essa pergunta não pode ser respondida completamente, pois os dados de artilharia contêm apenas jogadores que fizeram gols.\n",
    "\n",
    "# Registrar o DataFrame como uma view temporária\n",
    "tabela_artilheiros.createOrReplaceTempView(\"tabela_artilheiros\")\n",
    "\n",
    "# Comando SQL para calcular a média de gols por partida, considerando um número mínimo de 10 partidas jogadas\n",
    "query = \"\"\"\n",
    "    SELECT \n",
    "        jogador,  \n",
    "        SUM(gols) / SUM(partidas) AS media_gols_por_partida\n",
    "    FROM tabela_artilheiros\n",
    "    where partidas>10 and posicao =\"Centroavante\"\n",
    "    GROUP BY jogador\n",
    "    ORDER BY media_gols_por_partida ASC\n",
    "    LIMIT 1\n",
    "\"\"\"\n",
    "\n",
    "# Executando a consulta SQL no PySpark\n",
    "centroavante_menor_media_gols_por_partida = spark.sql(query)\n",
    "\n",
    "# Exibindo o resultado\n",
    "centroavante_menor_media_gols_por_partida.show()"
   ]
  },
  {
   "cell_type": "markdown",
   "metadata": {
    "application/vnd.databricks.v1+cell": {
     "cellMetadata": {},
     "inputWidgets": {},
     "nuid": "a0967965-274c-41d2-9c29-2e4c1d5539e5",
     "showTitle": false,
     "tableResultSettingsMap": {},
     "title": ""
    }
   },
   "source": [
    "**Qual o artilheiro de cada time por temporada?**\n",
    "\n",
    "Essa pergunta não pode ser respondida, pois durante a extração dos dados de jogadores do site transfermarkt, não foi possível criar uma coluna pois os nomes dos times eram apenas imagens e não uma string para ser copiada."
   ]
  },
  {
   "cell_type": "markdown",
   "metadata": {
    "application/vnd.databricks.v1+cell": {
     "cellMetadata": {},
     "inputWidgets": {},
     "nuid": "13dfbf3f-7059-43d0-9668-d295d25da153",
     "showTitle": false,
     "tableResultSettingsMap": {},
     "title": ""
    }
   },
   "source": [
    "**Quem foi o maior marcador italiano?**\n",
    "\n",
    "Essa pergunta não pode ser respondida, pois durante a extração dos dados de jogadores do site transfermarkt, não foi possível criar uma coluna pois as nacionalidades eram apenas imagens e não uma string para ser copiada, além de existirem jogadores com mais de uma nacionalidade."
   ]
  },
  {
   "cell_type": "markdown",
   "metadata": {
    "application/vnd.databricks.v1+cell": {
     "cellMetadata": {},
     "inputWidgets": {},
     "nuid": "ba0dcb08-0d69-4a92-9799-b8812a78ba2c",
     "showTitle": false,
     "tableResultSettingsMap": {},
     "title": ""
    }
   },
   "source": [
    "**Quem foi o maior marcador brasileiro?**\n",
    "\n",
    "Essa pergunta não pode ser respondida, pois durante a extração dos dados de jogadores do site transfermarkt, não foi possível criar uma coluna pois as nacionalidades eram apenas imagens e não uma string para ser copiada, além de existirem jogadores com mais de uma nacionalidade."
   ]
  },
  {
   "cell_type": "markdown",
   "metadata": {
    "application/vnd.databricks.v1+cell": {
     "cellMetadata": {
      "byteLimit": 2048000,
      "rowLimit": 10000
     },
     "inputWidgets": {},
     "nuid": "844eb7d2-58c7-4ca0-acac-1d376d6d082b",
     "showTitle": false,
     "tableResultSettingsMap": {},
     "title": ""
    }
   },
   "source": [
    "--------------------------------------------------------------------------------------------"
   ]
  },
  {
   "cell_type": "markdown",
   "metadata": {
    "application/vnd.databricks.v1+cell": {
     "cellMetadata": {},
     "inputWidgets": {},
     "nuid": "000c4e89-e604-4c00-9e5f-799504072e5c",
     "showTitle": false,
     "tableResultSettingsMap": {},
     "title": ""
    }
   },
   "source": [
    "### **Extração da tabela dos campeonatos**"
   ]
  },
  {
   "cell_type": "markdown",
   "metadata": {
    "application/vnd.databricks.v1+cell": {
     "cellMetadata": {},
     "inputWidgets": {},
     "nuid": "2d5f725a-f503-4514-8f31-28a62c207902",
     "showTitle": false,
     "tableResultSettingsMap": {},
     "title": ""
    }
   },
   "source": [
    "**5 - Extraindo as tabelas do campeonato do site transfermarkt**"
   ]
  },
  {
   "cell_type": "markdown",
   "metadata": {
    "application/vnd.databricks.v1+cell": {
     "cellMetadata": {},
     "inputWidgets": {},
     "nuid": "ab95bc21-c99b-42af-866b-30e96931dd39",
     "showTitle": false,
     "tableResultSettingsMap": {},
     "title": ""
    }
   },
   "source": [
    "Essa etapa foi feita no ambiente google colab, abaixo está apenas o código usado."
   ]
  },
  {
   "cell_type": "code",
   "execution_count": 0,
   "metadata": {
    "application/vnd.databricks.v1+cell": {
     "cellMetadata": {},
     "inputWidgets": {},
     "nuid": "4d496243-cab9-4c4c-a08f-68278e83d446",
     "showTitle": true,
     "tableResultSettingsMap": {},
     "title": "Essa etapa foi feita no ambiente google colab"
    }
   },
   "outputs": [],
   "source": [
    "import requests\n",
    "from bs4 import BeautifulSoup\n",
    "import csv\n",
    "\n",
    "# Função para buscar dados da tabela da página específica\n",
    "def get_teams_data(season):\n",
    "    url = f'https://www.transfermarkt.com.br/serie-a/tabelle/wettbewerb/IT1/saison_id/{season}'\n",
    "\n",
    "    # Define os headers para simular um navegador web\n",
    "    headers = {\n",
    "        'User-Agent': 'Mozilla/5.0 (Windows NT 10.0; Win64; x64) AppleWebKit/537.36 (KHTML, like Gecko) Chrome/114.0.0.0 Safari/537.36'\n",
    "    }\n",
    "\n",
    "    # Envia a requisição para obter o conteúdo da página\n",
    "    response = requests.get(url, headers=headers)\n",
    "\n",
    "    # Checa se a requisição foi bem-sucedida\n",
    "    try:\n",
    "        response.raise_for_status()\n",
    "    except requests.exceptions.HTTPError as err:\n",
    "        print(f\"Erro HTTP: {err}\")\n",
    "        return [], False  # Retorna uma lista vazia se houver erro\n",
    "\n",
    "    # Parseia o HTML da página\n",
    "    soup = BeautifulSoup(response.text, 'html.parser')\n",
    "\n",
    "    # Localiza a tabela de classificação\n",
    "    table = soup.find('table', {'class': 'items'})\n",
    "\n",
    "    if not table:\n",
    "        print(f\"Tabela de times para a temporada {season} não encontrada.\")\n",
    "        return [], False  # Se a tabela não for encontrada, retorna uma lista vazia e False\n",
    "\n",
    "    # Extrai os dados da tabela de times\n",
    "    teams_data = []\n",
    "\n",
    "    for row in table.find_all('tr')[1:]:  # Ignora o cabeçalho da tabela (linha 0)\n",
    "        cols = row.find_all('td')\n",
    "        if len(cols) >= 10:  # Verifica se a linha tem dados suficientes (incluindo GP e GC)\n",
    "            position = cols[0].text.strip()  # Posição do time\n",
    "            team = cols[2].find('a').text.strip()  # Nome do time\n",
    "            games_played = cols[3].text.strip()  # Jogos disputados\n",
    "            wins = cols[4].text.strip()  # Vitórias\n",
    "            draws = cols[5].text.strip()  # Empates\n",
    "            losses = cols[6].text.strip()  # Derrotas\n",
    "            goals_for = cols[7].text.strip().split(':')[0]  # Gols pró (GP)\n",
    "            goals_against = cols[7].text.strip().split(':')[1]  # Gols contra (GC)\n",
    "            sg = cols[8].text.strip()  # Saldo de gols\n",
    "            points = cols[9].text.strip()  # Pontos\n",
    "\n",
    "            teams_data.append((position, team, games_played, wins, draws, losses, goals_for, goals_against, sg, points))\n",
    "\n",
    "    return teams_data\n",
    "\n",
    "# Função para salvar os dados em um arquivo CSV\n",
    "def save_to_csv(teams_data, season):\n",
    "    if not teams_data:\n",
    "        print(\"Nenhum dado para salvar.\")\n",
    "        return\n",
    "\n",
    "    file_name = f'times_serie_a_{season}.csv'\n",
    "\n",
    "    try:\n",
    "        with open(file_name, mode='w', newline='', encoding='utf-8') as file:\n",
    "            writer = csv.writer(file)\n",
    "            writer.writerow(['Posição', 'Time', 'Jogos', 'Vitórias', 'Empates', 'Derrotas', 'GP', 'GC', 'SG', 'Pontos'])  # Cabeçalho\n",
    "            writer.writerows(teams_data)  # Escreve os dados\n",
    "        print(f'Dados exportados para \"{file_name}\"')\n",
    "    except Exception as e:\n",
    "        print(f\"Erro ao salvar o arquivo CSV: {e}\")\n",
    "\n",
    "# Função principal para buscar e salvar dados de times de várias temporadas\n",
    "def scrape_and_save_teams():\n",
    "    for season in range(2010, 2024):  # De 2010 até 2023\n",
    "        print(f\"Buscando dados da temporada {season}...\")\n",
    "        teams_data = get_teams_data(season)\n",
    "        if teams_data:\n",
    "            save_to_csv(teams_data, season)\n",
    "        else:\n",
    "            print(f\"Não há dados para a temporada {season}.\")\n",
    "\n",
    "# Executa o processo de scraping e salva os dados\n",
    "scrape_and_save_teams()\n"
   ]
  },
  {
   "cell_type": "markdown",
   "metadata": {
    "application/vnd.databricks.v1+cell": {
     "cellMetadata": {},
     "inputWidgets": {},
     "nuid": "33824e39-1f95-431e-a3d7-ccf8be171f7f",
     "showTitle": false,
     "tableResultSettingsMap": {},
     "title": ""
    }
   },
   "source": [
    "### **Carga da tabela dos campeonatos**"
   ]
  },
  {
   "cell_type": "markdown",
   "metadata": {
    "application/vnd.databricks.v1+cell": {
     "cellMetadata": {
      "byteLimit": 2048000,
      "rowLimit": 10000
     },
     "inputWidgets": {},
     "nuid": "4decedc6-4615-424e-b4f5-a1272a5a4158",
     "showTitle": false,
     "tableResultSettingsMap": {},
     "title": ""
    }
   },
   "source": [
    "**6 - Importando CSV das classificações dos times nos campeonatos**\n",
    "\n",
    "\n",
    "Foi feito um \"upload data to dbfs\" dos arquivos gerados pelo código acima. "
   ]
  },
  {
   "cell_type": "code",
   "execution_count": 0,
   "metadata": {
    "application/vnd.databricks.v1+cell": {
     "cellMetadata": {
      "byteLimit": 2048000,
      "rowLimit": 10000
     },
     "inputWidgets": {},
     "nuid": "564d5943-af55-438b-9964-9fc89c491137",
     "showTitle": false,
     "tableResultSettingsMap": {},
     "title": ""
    }
   },
   "outputs": [],
   "source": [
    "camp2010 = spark.read.format(\"csv\").option(\"header\", \"true\").load(\"dbfs:/FileStore/classificacao/times_serie_a_2010.csv\")\n",
    "camp2011 = spark.read.format(\"csv\").option(\"header\", \"true\").load(\"dbfs:/FileStore/classificacao/times_serie_a_2011.csv\")\n",
    "camp2012 = spark.read.format(\"csv\").option(\"header\", \"true\").load(\"dbfs:/FileStore/classificacao/times_serie_a_2012.csv\")\n",
    "camp2013 = spark.read.format(\"csv\").option(\"header\", \"true\").load(\"dbfs:/FileStore/classificacao/times_serie_a_2013.csv\")\n",
    "camp2014 = spark.read.format(\"csv\").option(\"header\", \"true\").load(\"dbfs:/FileStore/classificacao/times_serie_a_2014.csv\")\n",
    "camp2015 = spark.read.format(\"csv\").option(\"header\", \"true\").load(\"dbfs:/FileStore/classificacao/times_serie_a_2015.csv\")\n",
    "camp2016 = spark.read.format(\"csv\").option(\"header\", \"true\").load(\"dbfs:/FileStore/classificacao/times_serie_a_2016.csv\")\n",
    "camp2017 = spark.read.format(\"csv\").option(\"header\", \"true\").load(\"dbfs:/FileStore/classificacao/times_serie_a_2017.csv\")\n",
    "camp2018 = spark.read.format(\"csv\").option(\"header\", \"true\").load(\"dbfs:/FileStore/classificacao/times_serie_a_2018.csv\")\n",
    "camp2019 = spark.read.format(\"csv\").option(\"header\", \"true\").load(\"dbfs:/FileStore/classificacao/times_serie_a_2019.csv\")\n",
    "camp2020 = spark.read.format(\"csv\").option(\"header\", \"true\").load(\"dbfs:/FileStore/classificacao/times_serie_a_2020.csv\")\n",
    "camp2021 = spark.read.format(\"csv\").option(\"header\", \"true\").load(\"dbfs:/FileStore/classificacao/times_serie_a_2021.csv\")\n",
    "camp2022 = spark.read.format(\"csv\").option(\"header\", \"true\").load(\"dbfs:/FileStore/classificacao/times_serie_a_2022.csv\")\n",
    "camp2023 = spark.read.format(\"csv\").option(\"header\", \"true\").load(\"dbfs:/FileStore/classificacao/times_serie_a_2023.csv\")\n"
   ]
  },
  {
   "cell_type": "markdown",
   "metadata": {
    "application/vnd.databricks.v1+cell": {
     "cellMetadata": {},
     "inputWidgets": {},
     "nuid": "9bf69c05-3c97-41d0-90df-c6245352c8c1",
     "showTitle": false,
     "tableResultSettingsMap": {},
     "title": ""
    }
   },
   "source": [
    "### **Transformação da tabela dos campeonatos**"
   ]
  },
  {
   "cell_type": "markdown",
   "metadata": {
    "application/vnd.databricks.v1+cell": {
     "cellMetadata": {},
     "inputWidgets": {},
     "nuid": "4974669d-1834-4141-9f8a-0eddca9a45e6",
     "showTitle": false,
     "tableResultSettingsMap": {},
     "title": ""
    }
   },
   "source": [
    "Ajustando tipos de colunas e adicionando a temporada"
   ]
  },
  {
   "cell_type": "code",
   "execution_count": 0,
   "metadata": {
    "application/vnd.databricks.v1+cell": {
     "cellMetadata": {
      "byteLimit": 2048000,
      "rowLimit": 10000
     },
     "inputWidgets": {},
     "nuid": "eff5eae1-2458-48a4-bf68-25512d62cf70",
     "showTitle": true,
     "tableResultSettingsMap": {},
     "title": "Ajustando tipos de colunas e adicionando a temporada"
    }
   },
   "outputs": [],
   "source": [
    "from pyspark.sql.functions import col, lit\n",
    "\n",
    "# Função para ajustar o tipo de dados das colunas e adicionar a coluna temporada\n",
    "def ajustar_tipos(df):\n",
    "    return df \\\n",
    "        .withColumn(\"posição\", col(\"posição\").cast(\"int\")) \\\n",
    "        .withColumn(\"gp\", col(\"gp\").cast(\"int\")) \\\n",
    "        .withColumn(\"gc\", col(\"gc\").cast(\"int\")) \\\n",
    "        .withColumn(\"sg\", col(\"sg\").cast(\"int\")) \\\n",
    "        .withColumn(\"jogos\", col(\"jogos\").cast(\"int\")) \\\n",
    "        .withColumn(\"vitórias\", col(\"vitórias\").cast(\"int\")) \\\n",
    "        .withColumn(\"empates\", col(\"empates\").cast(\"int\")) \\\n",
    "        .withColumn(\"derrotas\", col(\"derrotas\").cast(\"int\")) \\\n",
    "        .withColumn(\"pontos\", col(\"pontos\").cast(\"int\")) \\\n",
    "        .withColumnRenamed(\"vitórias\", \"vitorias\")  # Renomeando a coluna \"vitórias\" para \"vitorias\"\n",
    "\n",
    "# Aplicando a função para ajustar os tipos de dados nas tabelas (para cada ano)\n",
    "camp2010 = ajustar_tipos(camp2010).withColumn(\"temporada\", lit(\"2010-2011\"))\n",
    "camp2011 = ajustar_tipos(camp2011).withColumn(\"temporada\", lit(\"2011-2012\"))\n",
    "camp2012 = ajustar_tipos(camp2012).withColumn(\"temporada\", lit(\"2012-2013\"))\n",
    "camp2013 = ajustar_tipos(camp2013).withColumn(\"temporada\", lit(\"2013-2014\"))\n",
    "camp2014 = ajustar_tipos(camp2014).withColumn(\"temporada\", lit(\"2014-2015\"))\n",
    "camp2015 = ajustar_tipos(camp2015).withColumn(\"temporada\", lit(\"2015-2016\"))\n",
    "camp2016 = ajustar_tipos(camp2016).withColumn(\"temporada\", lit(\"2016-2017\"))\n",
    "camp2017 = ajustar_tipos(camp2017).withColumn(\"temporada\", lit(\"2017-2018\"))\n",
    "camp2018 = ajustar_tipos(camp2018).withColumn(\"temporada\", lit(\"2018-2019\"))\n",
    "camp2019 = ajustar_tipos(camp2019).withColumn(\"temporada\", lit(\"2019-2020\"))\n",
    "camp2020 = ajustar_tipos(camp2020).withColumn(\"temporada\", lit(\"2020-2021\"))\n",
    "camp2021 = ajustar_tipos(camp2021).withColumn(\"temporada\", lit(\"2021-2022\"))\n",
    "camp2022 = ajustar_tipos(camp2022).withColumn(\"temporada\", lit(\"2022-2023\"))\n",
    "camp2023 = ajustar_tipos(camp2023).withColumn(\"temporada\", lit(\"2023-2024\"))\n"
   ]
  },
  {
   "cell_type": "markdown",
   "metadata": {
    "application/vnd.databricks.v1+cell": {
     "cellMetadata": {},
     "inputWidgets": {},
     "nuid": "902ac2bf-8582-4beb-b9cd-c47a4f007be6",
     "showTitle": false,
     "tableResultSettingsMap": {},
     "title": ""
    }
   },
   "source": [
    "Criando uma única tabela com todos os campeonatos"
   ]
  },
  {
   "cell_type": "code",
   "execution_count": 0,
   "metadata": {
    "application/vnd.databricks.v1+cell": {
     "cellMetadata": {
      "byteLimit": 2048000,
      "rowLimit": 10000
     },
     "inputWidgets": {},
     "nuid": "bbd27b0e-30af-4186-9efd-f4babe8ae53a",
     "showTitle": true,
     "tableResultSettingsMap": {},
     "title": "Criando uma tabela com todos os campeonatos"
    }
   },
   "outputs": [],
   "source": [
    "tabela_camp = camp2010.union(camp2011).union(camp2012).union(camp2013).union(camp2014).union(camp2015).union(camp2016).union(camp2017).union(camp2018).union(camp2019).union(camp2020).union(camp2021).union(camp2022).union(camp2023)\n",
    "\n"
   ]
  },
  {
   "cell_type": "markdown",
   "metadata": {
    "application/vnd.databricks.v1+cell": {
     "cellMetadata": {},
     "inputWidgets": {},
     "nuid": "1bf22f81-2358-402b-b8e7-e57748bd93a7",
     "showTitle": false,
     "tableResultSettingsMap": {},
     "title": ""
    }
   },
   "source": [
    "--------------------------------------------------------------------------------------------"
   ]
  },
  {
   "cell_type": "markdown",
   "metadata": {
    "application/vnd.databricks.v1+cell": {
     "cellMetadata": {},
     "inputWidgets": {},
     "nuid": "9bc0dc84-1c93-4816-be36-6b8649a9f8e0",
     "showTitle": false,
     "tableResultSettingsMap": {},
     "title": ""
    }
   },
   "source": [
    "**7 - Testando a qualidade dos dados dos campeonatos importados**"
   ]
  },
  {
   "cell_type": "markdown",
   "metadata": {
    "application/vnd.databricks.v1+cell": {
     "cellMetadata": {},
     "inputWidgets": {},
     "nuid": "b6e49993-da7f-4931-9c63-9479b5984ebd",
     "showTitle": false,
     "tableResultSettingsMap": {},
     "title": ""
    }
   },
   "source": [
    "Checar se existem posições negativas ou maiores que 20:"
   ]
  },
  {
   "cell_type": "code",
   "execution_count": 0,
   "metadata": {
    "application/vnd.databricks.v1+cell": {
     "cellMetadata": {
      "byteLimit": 2048000,
      "rowLimit": 10000
     },
     "inputWidgets": {},
     "nuid": "3832466f-c445-4195-8f12-11d938be8d43",
     "showTitle": true,
     "tableResultSettingsMap": {},
     "title": "Checar posição"
    }
   },
   "outputs": [
    {
     "output_type": "stream",
     "name": "stdout",
     "output_type": "stream",
     "text": [
      "+-------+----+-----+--------+-------+--------+---+---+---+------+---------+\n|posição|Time|jogos|vitorias|empates|derrotas| gp| gc| sg|pontos|temporada|\n+-------+----+-----+--------+-------+--------+---+---+---+------+---------+\n+-------+----+-----+--------+-------+--------+---+---+---+------+---------+\n\n"
     ]
    }
   ],
   "source": [
    "#Em cada campeonato existem 20 times\n",
    "tabela_camp.filter((col(\"posição\") < 0) | (col(\"posição\") > 20)).show()"
   ]
  },
  {
   "cell_type": "markdown",
   "metadata": {
    "application/vnd.databricks.v1+cell": {
     "cellMetadata": {},
     "inputWidgets": {},
     "nuid": "65023ad4-161a-4e95-9659-edc08d58dd34",
     "showTitle": false,
     "tableResultSettingsMap": {},
     "title": ""
    }
   },
   "source": [
    "Checar times repetidos na mesma temporada:"
   ]
  },
  {
   "cell_type": "code",
   "execution_count": 0,
   "metadata": {
    "application/vnd.databricks.v1+cell": {
     "cellMetadata": {
      "byteLimit": 2048000,
      "rowLimit": 10000
     },
     "inputWidgets": {},
     "nuid": "6b13cc9e-c5fa-49cd-ba17-ad226845405b",
     "showTitle": true,
     "tableResultSettingsMap": {},
     "title": "Checar times repetidos na mesma temporada"
    }
   },
   "outputs": [
    {
     "output_type": "stream",
     "name": "stdout",
     "output_type": "stream",
     "text": [
      "+----+---------+--------+\n|time|temporada|contagem|\n+----+---------+--------+\n+----+---------+--------+\n\n"
     ]
    }
   ],
   "source": [
    "# Registrar o DataFrame como uma view temporária\n",
    "tabela_camp.createOrReplaceTempView(\"cont_tabela_camp\")\n",
    "\n",
    "# Comando SQL para mostrar a contagem de cada time por temporada\n",
    "query = \"\"\"\n",
    "    SELECT\n",
    "        time,\n",
    "        temporada,\n",
    "        COUNT(*) AS contagem\n",
    "    FROM cont_tabela_camp\n",
    "    GROUP BY time, temporada\n",
    "    HAVING COUNT(*) > 1\n",
    "\"\"\"\n",
    "\n",
    "# Executando a consulta SQL no PySpark\n",
    "cont_tabela_camp = spark.sql(query)\n",
    "\n",
    "# Exibindo o resultado\n",
    "cont_tabela_camp.show()\n"
   ]
  },
  {
   "cell_type": "markdown",
   "metadata": {
    "application/vnd.databricks.v1+cell": {
     "cellMetadata": {},
     "inputWidgets": {},
     "nuid": "b17c1dc3-3991-4b23-bfe4-7aa9e7b61bf0",
     "showTitle": false,
     "tableResultSettingsMap": {},
     "title": ""
    }
   },
   "source": [
    "Checar se existem jogos diferentes de 38:"
   ]
  },
  {
   "cell_type": "code",
   "execution_count": 0,
   "metadata": {
    "application/vnd.databricks.v1+cell": {
     "cellMetadata": {
      "byteLimit": 2048000,
      "rowLimit": 10000
     },
     "inputWidgets": {},
     "nuid": "2bbdaa19-d661-40d2-aed8-875019df6a74",
     "showTitle": true,
     "tableResultSettingsMap": {},
     "title": "Checar jogos"
    }
   },
   "outputs": [
    {
     "output_type": "stream",
     "name": "stdout",
     "output_type": "stream",
     "text": [
      "+-------+----+-----+--------+-------+--------+---+---+---+------+---------+\n|posição|Time|jogos|vitorias|empates|derrotas| gp| gc| sg|pontos|temporada|\n+-------+----+-----+--------+-------+--------+---+---+---+------+---------+\n+-------+----+-----+--------+-------+--------+---+---+---+------+---------+\n\n"
     ]
    }
   ],
   "source": [
    "#Todos os times participam de 38 jogos em uma temporada\n",
    "tabela_camp.filter(col(\"jogos\") != 38).show()"
   ]
  },
  {
   "cell_type": "markdown",
   "metadata": {
    "application/vnd.databricks.v1+cell": {
     "cellMetadata": {},
     "inputWidgets": {},
     "nuid": "2f2b7f84-4f05-4ca5-b173-273c46a7d5f0",
     "showTitle": false,
     "tableResultSettingsMap": {},
     "title": ""
    }
   },
   "source": [
    "Checar se existem vitórias negativas ou maiores do que 38:\n"
   ]
  },
  {
   "cell_type": "code",
   "execution_count": 0,
   "metadata": {
    "application/vnd.databricks.v1+cell": {
     "cellMetadata": {
      "byteLimit": 2048000,
      "rowLimit": 10000
     },
     "inputWidgets": {},
     "nuid": "7af6ef76-f228-4130-b8be-4bb04af0ff2d",
     "showTitle": true,
     "tableResultSettingsMap": {},
     "title": "Checar vitórias"
    }
   },
   "outputs": [
    {
     "output_type": "stream",
     "name": "stdout",
     "output_type": "stream",
     "text": [
      "+-------+----+-----+--------+-------+--------+---+---+---+------+---------+\n|posição|Time|jogos|vitorias|empates|derrotas| gp| gc| sg|pontos|temporada|\n+-------+----+-----+--------+-------+--------+---+---+---+------+---------+\n+-------+----+-----+--------+-------+--------+---+---+---+------+---------+\n\n"
     ]
    }
   ],
   "source": [
    "#Um time não pode ter vitórias negativas e o valor máximo de vitórias é 38\n",
    "tabela_camp.filter((col(\"vitorias\") < 0) | (col(\"vitorias\") > 38)).show()"
   ]
  },
  {
   "cell_type": "markdown",
   "metadata": {
    "application/vnd.databricks.v1+cell": {
     "cellMetadata": {},
     "inputWidgets": {},
     "nuid": "32ee01fc-a99e-4479-b4ae-dfeb55545477",
     "showTitle": false,
     "tableResultSettingsMap": {},
     "title": ""
    }
   },
   "source": [
    "Checar se existem empates negativos ou maiores do que 38:"
   ]
  },
  {
   "cell_type": "code",
   "execution_count": 0,
   "metadata": {
    "application/vnd.databricks.v1+cell": {
     "cellMetadata": {
      "byteLimit": 2048000,
      "rowLimit": 10000
     },
     "inputWidgets": {},
     "nuid": "327fa027-948e-4681-89c2-3611e2d5202f",
     "showTitle": true,
     "tableResultSettingsMap": {},
     "title": "Checar empates"
    }
   },
   "outputs": [
    {
     "output_type": "stream",
     "name": "stdout",
     "output_type": "stream",
     "text": [
      "+-------+----+-----+--------+-------+--------+---+---+---+------+---------+\n|posição|Time|jogos|vitorias|empates|derrotas| gp| gc| sg|pontos|temporada|\n+-------+----+-----+--------+-------+--------+---+---+---+------+---------+\n+-------+----+-----+--------+-------+--------+---+---+---+------+---------+\n\n"
     ]
    }
   ],
   "source": [
    "#Um time não pode ter empates negativos e o valor máximo de empates é 38\n",
    "tabela_camp.filter((col(\"empates\") < 0) | (col(\"empates\") > 38)).show()"
   ]
  },
  {
   "cell_type": "markdown",
   "metadata": {
    "application/vnd.databricks.v1+cell": {
     "cellMetadata": {},
     "inputWidgets": {},
     "nuid": "48345885-1914-4c79-b732-5208ba89e3a5",
     "showTitle": false,
     "tableResultSettingsMap": {},
     "title": ""
    }
   },
   "source": [
    "Checar se existem derrotas negativas ou maiores do que 38:"
   ]
  },
  {
   "cell_type": "code",
   "execution_count": 0,
   "metadata": {
    "application/vnd.databricks.v1+cell": {
     "cellMetadata": {
      "byteLimit": 2048000,
      "rowLimit": 10000
     },
     "inputWidgets": {},
     "nuid": "7de8c38c-8b51-4884-99dd-10a9844b3675",
     "showTitle": true,
     "tableResultSettingsMap": {},
     "title": "Checar derrotas"
    }
   },
   "outputs": [
    {
     "output_type": "stream",
     "name": "stdout",
     "output_type": "stream",
     "text": [
      "+-------+----+-----+--------+-------+--------+---+---+---+------+---------+\n|posição|Time|jogos|vitorias|empates|derrotas| gp| gc| sg|pontos|temporada|\n+-------+----+-----+--------+-------+--------+---+---+---+------+---------+\n+-------+----+-----+--------+-------+--------+---+---+---+------+---------+\n\n"
     ]
    }
   ],
   "source": [
    "#Um time não pode ter derrotas negativas e o valor máximo de derrotas é 38\n",
    "tabela_camp.filter((col(\"derrotas\") < 0) | (col(\"derrotas\") > 38)).show()"
   ]
  },
  {
   "cell_type": "markdown",
   "metadata": {
    "application/vnd.databricks.v1+cell": {
     "cellMetadata": {},
     "inputWidgets": {},
     "nuid": "541d8abd-3988-493a-b17d-f7eb255cb1c7",
     "showTitle": false,
     "tableResultSettingsMap": {},
     "title": ""
    }
   },
   "source": [
    "Checar gols pro negativos:"
   ]
  },
  {
   "cell_type": "code",
   "execution_count": 0,
   "metadata": {
    "application/vnd.databricks.v1+cell": {
     "cellMetadata": {
      "byteLimit": 2048000,
      "rowLimit": 10000
     },
     "inputWidgets": {},
     "nuid": "ef1d9fb5-a62f-4c64-9b2d-d0c375c5af85",
     "showTitle": true,
     "tableResultSettingsMap": {},
     "title": "Checar gols pro negativos"
    }
   },
   "outputs": [
    {
     "output_type": "stream",
     "name": "stdout",
     "output_type": "stream",
     "text": [
      "+-------+----+-----+--------+-------+--------+---+---+---+------+---------+\n|posição|Time|jogos|vitorias|empates|derrotas| gp| gc| sg|pontos|temporada|\n+-------+----+-----+--------+-------+--------+---+---+---+------+---------+\n+-------+----+-----+--------+-------+--------+---+---+---+------+---------+\n\n"
     ]
    }
   ],
   "source": [
    "#Não podem existir gols pro negativos, o valor mínimo é 0\n",
    "tabela_camp.filter(col(\"gp\") < 0).show()"
   ]
  },
  {
   "cell_type": "markdown",
   "metadata": {
    "application/vnd.databricks.v1+cell": {
     "cellMetadata": {},
     "inputWidgets": {},
     "nuid": "4a148d39-f324-4ff0-be03-c6e0fc9d7875",
     "showTitle": false,
     "tableResultSettingsMap": {},
     "title": ""
    }
   },
   "source": [
    "Checar gols contra negativos:"
   ]
  },
  {
   "cell_type": "code",
   "execution_count": 0,
   "metadata": {
    "application/vnd.databricks.v1+cell": {
     "cellMetadata": {
      "byteLimit": 2048000,
      "rowLimit": 10000
     },
     "inputWidgets": {},
     "nuid": "097da3f8-a2b3-488d-97a5-15cfd2f41e80",
     "showTitle": true,
     "tableResultSettingsMap": {},
     "title": "Checar gols contra negativos"
    }
   },
   "outputs": [
    {
     "output_type": "stream",
     "name": "stdout",
     "output_type": "stream",
     "text": [
      "+-------+----+-----+--------+-------+--------+---+---+---+------+---------+\n|posição|Time|jogos|vitorias|empates|derrotas| gp| gc| sg|pontos|temporada|\n+-------+----+-----+--------+-------+--------+---+---+---+------+---------+\n+-------+----+-----+--------+-------+--------+---+---+---+------+---------+\n\n"
     ]
    }
   ],
   "source": [
    "#Não podem existir gols contra negativos, o valor mínimo é 0\n",
    "tabela_camp.filter(col(\"gc\") < 0).show()"
   ]
  },
  {
   "cell_type": "markdown",
   "metadata": {
    "application/vnd.databricks.v1+cell": {
     "cellMetadata": {},
     "inputWidgets": {},
     "nuid": "21d41d65-62a2-44d8-b1d7-4b46d8d3eb6c",
     "showTitle": false,
     "tableResultSettingsMap": {},
     "title": ""
    }
   },
   "source": [
    "Checar se existem pontos negativos ou maiores que 114:"
   ]
  },
  {
   "cell_type": "code",
   "execution_count": 0,
   "metadata": {
    "application/vnd.databricks.v1+cell": {
     "cellMetadata": {
      "byteLimit": 2048000,
      "rowLimit": 10000
     },
     "inputWidgets": {},
     "nuid": "468f8879-319e-4348-9ace-d03ba0af5794",
     "showTitle": true,
     "tableResultSettingsMap": {},
     "title": "Checar pontos"
    }
   },
   "outputs": [
    {
     "output_type": "stream",
     "name": "stdout",
     "output_type": "stream",
     "text": [
      "+-------+----+-----+--------+-------+--------+---+---+---+------+---------+\n|posição|Time|jogos|vitorias|empates|derrotas| gp| gc| sg|pontos|temporada|\n+-------+----+-----+--------+-------+--------+---+---+---+------+---------+\n+-------+----+-----+--------+-------+--------+---+---+---+------+---------+\n\n"
     ]
    }
   ],
   "source": [
    "#Não podem existir pontos negativos, o valor mínimo é 0 e o valor máximo é 3*38 = 114\n",
    "tabela_camp.filter((col(\"pontos\") < 0) | (col(\"pontos\") > 114)).show()"
   ]
  },
  {
   "cell_type": "markdown",
   "metadata": {
    "application/vnd.databricks.v1+cell": {
     "cellMetadata": {},
     "inputWidgets": {},
     "nuid": "3fe01387-e4a6-4a1e-832a-250643395808",
     "showTitle": false,
     "tableResultSettingsMap": {},
     "title": ""
    }
   },
   "source": [
    "Checar se existem valores nulos:"
   ]
  },
  {
   "cell_type": "code",
   "execution_count": 0,
   "metadata": {
    "application/vnd.databricks.v1+cell": {
     "cellMetadata": {
      "byteLimit": 2048000,
      "rowLimit": 10000
     },
     "inputWidgets": {},
     "nuid": "afabbd37-8103-43f0-b258-6d24d505d5ad",
     "showTitle": true,
     "tableResultSettingsMap": {},
     "title": "Checar valores nulos"
    }
   },
   "outputs": [
    {
     "output_type": "stream",
     "name": "stdout",
     "output_type": "stream",
     "text": [
      "+-------+----+-----+--------+-------+--------+---+---+---+------+---------+\n|posição|Time|jogos|vitorias|empates|derrotas| gp| gc| sg|pontos|temporada|\n+-------+----+-----+--------+-------+--------+---+---+---+------+---------+\n|      0|   0|    0|       0|      0|       0|  0|  0|  0|     0|        0|\n+-------+----+-----+--------+-------+--------+---+---+---+------+---------+\n\n"
     ]
    }
   ],
   "source": [
    "#Não podem existir valores nulos na tabela\n",
    "tabela_camp.select([F.count(F.when(F.isnull(c), c)).alias(c) for c in tabela_camp.columns]).show()"
   ]
  },
  {
   "cell_type": "markdown",
   "metadata": {
    "application/vnd.databricks.v1+cell": {
     "cellMetadata": {},
     "inputWidgets": {},
     "nuid": "a98c4cb5-7efa-4e26-8c42-1f1c30683f52",
     "showTitle": false,
     "tableResultSettingsMap": {},
     "title": ""
    }
   },
   "source": []
  },
  {
   "cell_type": "markdown",
   "metadata": {
    "application/vnd.databricks.v1+cell": {
     "cellMetadata": {},
     "inputWidgets": {},
     "nuid": "508eb378-e414-4b38-bcf8-4f61893970bb",
     "showTitle": false,
     "tableResultSettingsMap": {},
     "title": ""
    }
   },
   "source": [
    "--------------------------------------------------------------------------------------------"
   ]
  },
  {
   "cell_type": "markdown",
   "metadata": {
    "application/vnd.databricks.v1+cell": {
     "cellMetadata": {},
     "inputWidgets": {},
     "nuid": "7be23fff-e8b4-4400-bf45-3f120b469a15",
     "showTitle": false,
     "tableResultSettingsMap": {},
     "title": ""
    },
    "jupyter": {
     "outputs_hidden": true
    }
   },
   "source": [
    "**8 - Respondendo as perguntas sobre os campeonatos**"
   ]
  },
  {
   "cell_type": "markdown",
   "metadata": {
    "application/vnd.databricks.v1+cell": {
     "cellMetadata": {},
     "inputWidgets": {},
     "nuid": "7ea2a3b1-5823-4150-9b1f-e7e52eafa2a3",
     "showTitle": false,
     "tableResultSettingsMap": {},
     "title": ""
    }
   },
   "source": [
    "Abaixo está a tabela com todos os times e estatísticas acumuladas das temporadas"
   ]
  },
  {
   "cell_type": "code",
   "execution_count": 0,
   "metadata": {
    "application/vnd.databricks.v1+cell": {
     "cellMetadata": {
      "byteLimit": 2048000,
      "rowLimit": 10000
     },
     "inputWidgets": {},
     "nuid": "c0101b91-7ed2-4bbc-adf2-a3eeb85c68c6",
     "showTitle": true,
     "tableResultSettingsMap": {},
     "title": "Times com mais pontos"
    }
   },
   "outputs": [
    {
     "output_type": "display_data",
     "data": {
      "text/html": [
       "<style scoped>\n",
       "  .table-result-container {\n",
       "    max-height: 300px;\n",
       "    overflow: auto;\n",
       "  }\n",
       "  table, th, td {\n",
       "    border: 1px solid black;\n",
       "    border-collapse: collapse;\n",
       "  }\n",
       "  th, td {\n",
       "    padding: 5px;\n",
       "  }\n",
       "  th {\n",
       "    text-align: left;\n",
       "  }\n",
       "</style><div class='table-result-container'><table class='table-result'><thead style='background-color: white'><tr><th>time</th><th>total_pontos</th><th>total_jogos</th><th>total_vitorias</th><th>total_derrotas</th><th>total_empates</th><th>total_gp</th><th>total_gc</th></tr></thead><tbody><tr><td>Juventus</td><td>1149</td><td>532</td><td>350</td><td>73</td><td>109</td><td>976</td><td>421</td></tr><tr><td>Napoli</td><td>1049</td><td>532</td><td>311</td><td>105</td><td>116</td><td>1023</td><td>548</td></tr><tr><td>Inter</td><td>996</td><td>532</td><td>293</td><td>122</td><td>117</td><td>962</td><td>558</td></tr><tr><td>Milan</td><td>971</td><td>532</td><td>279</td><td>119</td><td>134</td><td>882</td><td>571</td></tr><tr><td>Roma</td><td>967</td><td>532</td><td>282</td><td>129</td><td>121</td><td>935</td><td>609</td></tr><tr><td>Lazio</td><td>914</td><td>532</td><td>269</td><td>156</td><td>107</td><td>884</td><td>642</td></tr><tr><td>Fiorentina</td><td>785</td><td>532</td><td>211</td><td>169</td><td>152</td><td>779</td><td>658</td></tr><tr><td>Atalanta</td><td>767</td><td>494</td><td>216</td><td>151</td><td>127</td><td>789</td><td>613</td></tr><tr><td>Udinese</td><td>663</td><td>532</td><td>173</td><td>215</td><td>144</td><td>658</td><td>736</td></tr><tr><td>Torino</td><td>598</td><td>456</td><td>149</td><td>155</td><td>152</td><td>601</td><td>607</td></tr><tr><td>Bologna</td><td>588</td><td>494</td><td>150</td><td>203</td><td>141</td><td>565</td><td>682</td></tr><tr><td>Genoa</td><td>553</td><td>494</td><td>137</td><td>215</td><td>142</td><td>557</td><td>713</td></tr><tr><td>UC Sampdoria</td><td>523</td><td>456</td><td>137</td><td>206</td><td>113</td><td>555</td><td>684</td></tr><tr><td>Sassuolo</td><td>514</td><td>418</td><td>133</td><td>170</td><td>115</td><td>568</td><td>672</td></tr><tr><td>Cagliari</td><td>483</td><td>456</td><td>120</td><td>213</td><td>123</td><td>501</td><td>715</td></tr><tr><td>Chievo Verona</td><td>369</td><td>342</td><td>92</td><td>154</td><td>96</td><td>319</td><td>472</td></tr><tr><td>Verona</td><td>369</td><td>342</td><td>92</td><td>157</td><td>93</td><td>402</td><td>542</td></tr><tr><td>Parma</td><td>338</td><td>304</td><td>87</td><td>133</td><td>84</td><td>365</td><td>468</td></tr><tr><td>Empoli</td><td>278</td><td>266</td><td>67</td><td>122</td><td>77</td><td>282</td><td>405</td></tr><tr><td>US Palermo</td><td>245</td><td>228</td><td>62</td><td>107</td><td>59</td><td>268</td><td>376</td></tr><tr><td>Lecce</td><td>186</td><td>190</td><td>44</td><td>92</td><td>54</td><td>203</td><td>307</td></tr><tr><td>Catania Calcio</td><td>182</td><td>152</td><td>46</td><td>62</td><td>44</td><td>171</td><td>216</td></tr><tr><td>Spezia Calcio</td><td>106</td><td>114</td><td>25</td><td>58</td><td>31</td><td>124</td><td>205</td></tr><tr><td>SPAL</td><td>100</td><td>114</td><td>24</td><td>62</td><td>28</td><td>110</td><td>192</td></tr><tr><td>Monza</td><td>97</td><td>76</td><td>25</td><td>29</td><td>22</td><td>87</td><td>103</td></tr><tr><td>Crotone</td><td>92</td><td>114</td><td>24</td><td>70</td><td>20</td><td>119</td><td>216</td></tr><tr><td>Frosinone</td><td>91</td><td>114</td><td>21</td><td>65</td><td>28</td><td>108</td><td>214</td></tr><tr><td>Salernitana</td><td>90</td><td>114</td><td>18</td><td>60</td><td>36</td><td>113</td><td>221</td></tr><tr><td>Cesena</td><td>89</td><td>114</td><td>19</td><td>63</td><td>32</td><td>98</td><td>183</td></tr><tr><td>AC Siena</td><td>74</td><td>76</td><td>20</td><td>36</td><td>20</td><td>81</td><td>102</td></tr><tr><td>Brescia</td><td>57</td><td>76</td><td>13</td><td>45</td><td>18</td><td>69</td><td>131</td></tr><tr><td>Benevento</td><td>54</td><td>76</td><td>13</td><td>48</td><td>15</td><td>73</td><td>159</td></tr><tr><td>Pescara</td><td>40</td><td>76</td><td>9</td><td>54</td><td>13</td><td>64</td><td>165</td></tr><tr><td>Carpi</td><td>38</td><td>38</td><td>9</td><td>18</td><td>11</td><td>37</td><td>57</td></tr><tr><td>Novara Calcio</td><td>32</td><td>38</td><td>7</td><td>20</td><td>11</td><td>35</td><td>65</td></tr><tr><td>Venezia</td><td>27</td><td>38</td><td>6</td><td>23</td><td>9</td><td>34</td><td>69</td></tr><tr><td>Cremonese</td><td>27</td><td>38</td><td>5</td><td>21</td><td>12</td><td>36</td><td>69</td></tr><tr><td>AS Livorno</td><td>25</td><td>38</td><td>6</td><td>25</td><td>7</td><td>39</td><td>77</td></tr><tr><td>Bari</td><td>24</td><td>38</td><td>5</td><td>24</td><td>9</td><td>27</td><td>56</td></tr></tbody></table></div>"
      ]
     },
     "metadata": {
      "application/vnd.databricks.v1+output": {
       "addedWidgets": {},
       "aggData": [],
       "aggError": "",
       "aggOverflow": false,
       "aggSchema": [],
       "aggSeriesLimitReached": false,
       "aggType": "",
       "arguments": {},
       "columnCustomDisplayInfos": {},
       "data": [
        [
         "Juventus",
         1149,
         532,
         350,
         73,
         109,
         976,
         421
        ],
        [
         "Napoli",
         1049,
         532,
         311,
         105,
         116,
         1023,
         548
        ],
        [
         "Inter",
         996,
         532,
         293,
         122,
         117,
         962,
         558
        ],
        [
         "Milan",
         971,
         532,
         279,
         119,
         134,
         882,
         571
        ],
        [
         "Roma",
         967,
         532,
         282,
         129,
         121,
         935,
         609
        ],
        [
         "Lazio",
         914,
         532,
         269,
         156,
         107,
         884,
         642
        ],
        [
         "Fiorentina",
         785,
         532,
         211,
         169,
         152,
         779,
         658
        ],
        [
         "Atalanta",
         767,
         494,
         216,
         151,
         127,
         789,
         613
        ],
        [
         "Udinese",
         663,
         532,
         173,
         215,
         144,
         658,
         736
        ],
        [
         "Torino",
         598,
         456,
         149,
         155,
         152,
         601,
         607
        ],
        [
         "Bologna",
         588,
         494,
         150,
         203,
         141,
         565,
         682
        ],
        [
         "Genoa",
         553,
         494,
         137,
         215,
         142,
         557,
         713
        ],
        [
         "UC Sampdoria",
         523,
         456,
         137,
         206,
         113,
         555,
         684
        ],
        [
         "Sassuolo",
         514,
         418,
         133,
         170,
         115,
         568,
         672
        ],
        [
         "Cagliari",
         483,
         456,
         120,
         213,
         123,
         501,
         715
        ],
        [
         "Chievo Verona",
         369,
         342,
         92,
         154,
         96,
         319,
         472
        ],
        [
         "Verona",
         369,
         342,
         92,
         157,
         93,
         402,
         542
        ],
        [
         "Parma",
         338,
         304,
         87,
         133,
         84,
         365,
         468
        ],
        [
         "Empoli",
         278,
         266,
         67,
         122,
         77,
         282,
         405
        ],
        [
         "US Palermo",
         245,
         228,
         62,
         107,
         59,
         268,
         376
        ],
        [
         "Lecce",
         186,
         190,
         44,
         92,
         54,
         203,
         307
        ],
        [
         "Catania Calcio",
         182,
         152,
         46,
         62,
         44,
         171,
         216
        ],
        [
         "Spezia Calcio",
         106,
         114,
         25,
         58,
         31,
         124,
         205
        ],
        [
         "SPAL",
         100,
         114,
         24,
         62,
         28,
         110,
         192
        ],
        [
         "Monza",
         97,
         76,
         25,
         29,
         22,
         87,
         103
        ],
        [
         "Crotone",
         92,
         114,
         24,
         70,
         20,
         119,
         216
        ],
        [
         "Frosinone",
         91,
         114,
         21,
         65,
         28,
         108,
         214
        ],
        [
         "Salernitana",
         90,
         114,
         18,
         60,
         36,
         113,
         221
        ],
        [
         "Cesena",
         89,
         114,
         19,
         63,
         32,
         98,
         183
        ],
        [
         "AC Siena",
         74,
         76,
         20,
         36,
         20,
         81,
         102
        ],
        [
         "Brescia",
         57,
         76,
         13,
         45,
         18,
         69,
         131
        ],
        [
         "Benevento",
         54,
         76,
         13,
         48,
         15,
         73,
         159
        ],
        [
         "Pescara",
         40,
         76,
         9,
         54,
         13,
         64,
         165
        ],
        [
         "Carpi",
         38,
         38,
         9,
         18,
         11,
         37,
         57
        ],
        [
         "Novara Calcio",
         32,
         38,
         7,
         20,
         11,
         35,
         65
        ],
        [
         "Venezia",
         27,
         38,
         6,
         23,
         9,
         34,
         69
        ],
        [
         "Cremonese",
         27,
         38,
         5,
         21,
         12,
         36,
         69
        ],
        [
         "AS Livorno",
         25,
         38,
         6,
         25,
         7,
         39,
         77
        ],
        [
         "Bari",
         24,
         38,
         5,
         24,
         9,
         27,
         56
        ]
       ],
       "datasetInfos": [],
       "dbfsResultPath": null,
       "isJsonSchema": true,
       "metadata": {},
       "overflow": false,
       "plotOptions": {
        "customPlotOptions": {},
        "displayType": "table",
        "pivotAggregation": null,
        "pivotColumns": null,
        "xColumns": null,
        "yColumns": null
       },
       "removedWidgets": [],
       "schema": [
        {
         "metadata": "{}",
         "name": "time",
         "type": "\"string\""
        },
        {
         "metadata": "{}",
         "name": "total_pontos",
         "type": "\"long\""
        },
        {
         "metadata": "{}",
         "name": "total_jogos",
         "type": "\"long\""
        },
        {
         "metadata": "{}",
         "name": "total_vitorias",
         "type": "\"long\""
        },
        {
         "metadata": "{}",
         "name": "total_derrotas",
         "type": "\"long\""
        },
        {
         "metadata": "{}",
         "name": "total_empates",
         "type": "\"long\""
        },
        {
         "metadata": "{}",
         "name": "total_gp",
         "type": "\"long\""
        },
        {
         "metadata": "{}",
         "name": "total_gc",
         "type": "\"long\""
        }
       ],
       "type": "table"
      }
     },
     "output_type": "display_data"
    }
   ],
   "source": [
    "# Registrar o DataFrame como uma view temporária\n",
    "tabela_camp.createOrReplaceTempView(\"tabela_camp_view\")\n",
    "\n",
    "# Comando SQL para somar os pontos e outras estatísticas para cada time\n",
    "query = \"\"\"\n",
    "    SELECT \n",
    "        time,\n",
    "        SUM(pontos) AS total_pontos,\n",
    "        SUM(jogos) AS total_jogos,\n",
    "        SUM(vitorias) AS total_vitorias,\n",
    "        SUM(derrotas) AS total_derrotas,\n",
    "        SUM(empates) AS total_empates,\n",
    "        SUM(gp) AS total_gp,\n",
    "        SUM(gc) AS total_gc\n",
    "    FROM tabela_camp_view\n",
    "    GROUP BY time\n",
    "    ORDER BY total_pontos DESC\n",
    "\"\"\"\n",
    "\n",
    "# Executando a consulta SQL\n",
    "pontos_por_time = spark.sql(query)\n",
    "\n",
    "# Exibindo os resultados\n",
    "display(pontos_por_time)\n"
   ]
  },
  {
   "cell_type": "markdown",
   "metadata": {
    "application/vnd.databricks.v1+cell": {
     "cellMetadata": {},
     "inputWidgets": {},
     "nuid": "aeb4f664-b657-42a3-aa11-1a0e8d13624a",
     "showTitle": false,
     "tableResultSettingsMap": {},
     "title": ""
    }
   },
   "source": [
    "**Qual time com maior quantidade de pontos?**"
   ]
  },
  {
   "cell_type": "code",
   "execution_count": 0,
   "metadata": {
    "application/vnd.databricks.v1+cell": {
     "cellMetadata": {
      "byteLimit": 2048000,
      "rowLimit": 10000
     },
     "inputWidgets": {},
     "nuid": "b5214963-193a-4c0e-ad84-04aa5962cff9",
     "showTitle": true,
     "tableResultSettingsMap": {},
     "title": "Qual time com maior quantidade de pontos?"
    }
   },
   "outputs": [
    {
     "output_type": "stream",
     "name": "stdout",
     "output_type": "stream",
     "text": [
      "+--------+------------+-----------+--------------+--------------+-------------+--------+--------+\n|    time|total_pontos|total_jogos|total_vitorias|total_derrotas|total_empates|total_gp|total_gc|\n+--------+------------+-----------+--------------+--------------+-------------+--------+--------+\n|Juventus|        1149|        532|           350|            73|          109|     976|     421|\n+--------+------------+-----------+--------------+--------------+-------------+--------+--------+\nonly showing top 1 row\n\n"
     ]
    }
   ],
   "source": [
    "#A consulta abaixo trará o nome do time que fez a maior quantidade de pontos, considerando todas as temporadas.\n",
    "\n",
    "pontos_por_time.show(1)"
   ]
  },
  {
   "cell_type": "markdown",
   "metadata": {
    "application/vnd.databricks.v1+cell": {
     "cellMetadata": {},
     "inputWidgets": {},
     "nuid": "9f514c87-2d93-4a9c-920f-0d3588ec347c",
     "showTitle": false,
     "tableResultSettingsMap": {},
     "title": ""
    }
   },
   "source": [
    "**Qual time com maior % de vitórias?**"
   ]
  },
  {
   "cell_type": "code",
   "execution_count": 0,
   "metadata": {
    "application/vnd.databricks.v1+cell": {
     "cellMetadata": {
      "byteLimit": 2048000,
      "rowLimit": 10000
     },
     "inputWidgets": {},
     "nuid": "995f457b-7136-41d8-8e11-6c6eedfc5168",
     "showTitle": true,
     "tableResultSettingsMap": {},
     "title": "Qual time com maior % de vitórias?"
    }
   },
   "outputs": [
    {
     "output_type": "stream",
     "name": "stdout",
     "output_type": "stream",
     "text": [
      "+--------+-----------------+\n|    time|    perc_vitorias|\n+--------+-----------------+\n|Juventus|65.78947368421053|\n+--------+-----------------+\nonly showing top 1 row\n\n"
     ]
    }
   ],
   "source": [
    "#A consulta abaixo trará o nome do time com o maior percentual de vitórias considerando todas as temporadas.\n",
    "\n",
    "# Registrar o DataFrame como uma view temporária\n",
    "tabela_camp.createOrReplaceTempView(\"tabela_maior_perc_vitorias\")\n",
    "\n",
    "# Comando SQL para calcular o percentual de vitórias de cada time\n",
    "query = \"\"\"\n",
    "    SELECT \n",
    "        time,\n",
    "        (SUM(vitorias) / SUM(jogos)) * 100 AS perc_vitorias\n",
    "    FROM tabela_maior_perc_vitorias\n",
    "    GROUP BY time\n",
    "    ORDER BY perc_vitorias DESC\n",
    "\"\"\"\n",
    "\n",
    "# Executando a consulta SQL\n",
    "maior_percentual_vitorias_por_time = spark.sql(query)\n",
    "\n",
    "# Exibindo os resultados\n",
    "maior_percentual_vitorias_por_time.show(1)\n"
   ]
  },
  {
   "cell_type": "markdown",
   "metadata": {
    "application/vnd.databricks.v1+cell": {
     "cellMetadata": {},
     "inputWidgets": {},
     "nuid": "7903d62d-dac2-4083-ac56-8c928892832f",
     "showTitle": false,
     "tableResultSettingsMap": {},
     "title": ""
    }
   },
   "source": [
    "A pergunta abaixo eu não tinha pensado originalmente, mas checando a tabela de campeonatos achei interessante ver os destaques negativos também.\n",
    "\n",
    "**Qual time com menor % de vitórias?**"
   ]
  },
  {
   "cell_type": "code",
   "execution_count": 0,
   "metadata": {
    "application/vnd.databricks.v1+cell": {
     "cellMetadata": {
      "byteLimit": 2048000,
      "rowLimit": 10000
     },
     "inputWidgets": {},
     "nuid": "d92794e5-4caa-4801-b33e-dd8327243d7c",
     "showTitle": true,
     "tableResultSettingsMap": {},
     "title": "Qual time com menor % de vitórias?"
    }
   },
   "outputs": [
    {
     "output_type": "stream",
     "name": "stdout",
     "output_type": "stream",
     "text": [
      "+-------+------------------+\n|   time|     perc_vitorias|\n+-------+------------------+\n|Pescara|11.842105263157894|\n+-------+------------------+\nonly showing top 1 row\n\n"
     ]
    }
   ],
   "source": [
    "# Registrar o DataFrame como uma view temporária\n",
    "tabela_camp.createOrReplaceTempView(\"tabela_menor_perc_vitorias\")\n",
    "\n",
    "# Comando SQL para calcular o percentual de vitórias de cada time\n",
    "query = \"\"\"\n",
    "    SELECT \n",
    "        time,\n",
    "        (SUM(vitorias) / SUM(jogos)) * 100 AS perc_vitorias\n",
    "    FROM tabela_menor_perc_vitorias\n",
    "    GROUP BY time\n",
    "    ORDER BY perc_vitorias ASC\n",
    "\"\"\"\n",
    "\n",
    "# Executando a consulta SQL\n",
    "menor_percentual_vitorias_por_time = spark.sql(query)\n",
    "\n",
    "# Exibindo os resultados\n",
    "menor_percentual_vitorias_por_time.show(1)\n"
   ]
  },
  {
   "cell_type": "markdown",
   "metadata": {
    "application/vnd.databricks.v1+cell": {
     "cellMetadata": {},
     "inputWidgets": {},
     "nuid": "ba8e7d49-6193-434b-93f0-1ca90f2ba590",
     "showTitle": false,
     "tableResultSettingsMap": {},
     "title": ""
    }
   },
   "source": [
    "**Qual time que fez mais gols?**"
   ]
  },
  {
   "cell_type": "code",
   "execution_count": 0,
   "metadata": {
    "application/vnd.databricks.v1+cell": {
     "cellMetadata": {
      "byteLimit": 2048000,
      "rowLimit": 10000
     },
     "inputWidgets": {},
     "nuid": "a94dc625-557c-4972-ae5a-bb3191c05238",
     "showTitle": true,
     "tableResultSettingsMap": {},
     "title": "Qual time que fez mais gols?"
    }
   },
   "outputs": [
    {
     "output_type": "stream",
     "name": "stdout",
     "output_type": "stream",
     "text": [
      "+------+--------+\n|  time|total_gp|\n+------+--------+\n|Napoli|    1023|\n+------+--------+\nonly showing top 1 row\n\n"
     ]
    }
   ],
   "source": [
    "#A consulta abaixo trará o nome do time que fez mais gols considerando todas as temporadas.\n",
    "\n",
    "# Registrar o DataFrame como uma view temporária\n",
    "tabela_camp.createOrReplaceTempView(\"mais_gols_view\")\n",
    "\n",
    "# Comando SQL para somar os pontos e outras estatísticas para cada time\n",
    "query = \"\"\"\n",
    "    SELECT \n",
    "        time,\n",
    "        SUM(gp) AS total_gp\n",
    "    FROM mais_gols_view\n",
    "    GROUP BY time\n",
    "    ORDER BY total_gp DESC\n",
    "\"\"\"\n",
    "\n",
    "# Executando a consulta SQL\n",
    "mais_gols = spark.sql(query)\n",
    "\n",
    "# Exibindo os resultados\n",
    "mais_gols.show(1)\n"
   ]
  },
  {
   "cell_type": "markdown",
   "metadata": {
    "application/vnd.databricks.v1+cell": {
     "cellMetadata": {},
     "inputWidgets": {},
     "nuid": "2a938a6e-b887-46d4-8d9a-04e2ee08f2d1",
     "showTitle": false,
     "tableResultSettingsMap": {},
     "title": ""
    }
   },
   "source": [
    "**Qual time sofreu menos gols?**"
   ]
  },
  {
   "cell_type": "code",
   "execution_count": 0,
   "metadata": {
    "application/vnd.databricks.v1+cell": {
     "cellMetadata": {
      "byteLimit": 2048000,
      "rowLimit": 10000
     },
     "inputWidgets": {},
     "nuid": "dc7911b3-662d-4983-8973-041909ea8498",
     "showTitle": true,
     "tableResultSettingsMap": {},
     "title": "Qual time sofreu menos gols?"
    }
   },
   "outputs": [
    {
     "output_type": "stream",
     "name": "stdout",
     "output_type": "stream",
     "text": [
      "+--------+--------+\n|    time|total_gc|\n+--------+--------+\n|Juventus|     421|\n+--------+--------+\nonly showing top 1 row\n\n"
     ]
    }
   ],
   "source": [
    "#A consulta abaixo trará o nome do time que sofreu menos gols, porém como houveram times que foram rebaixados e não participaram de muitas temparadas, optei por considerar apenas os times que participaram de todas as temporadas, evitando distorções no resultado.\n",
    "\n",
    "# Registrar o DataFrame como uma view temporária\n",
    "tabela_camp.createOrReplaceTempView(\"menos_vazado_view\")\n",
    "\n",
    "# Comando SQL para somar os gols sofridos por cada time\n",
    "query = \"\"\"\n",
    "    SELECT \n",
    "        time, \n",
    "        SUM(gc) AS total_gc\n",
    "    FROM menos_vazado_view\n",
    "    GROUP BY time\n",
    "    HAVING SUM(jogos) = 532\n",
    "    ORDER BY total_gc ASC\n",
    "\"\"\"\n",
    "\n",
    "# Executando a consulta SQL\n",
    "menos_vazado = spark.sql(query)\n",
    "\n",
    "# Exibindo os resultados\n",
    "menos_vazado.show(1)"
   ]
  },
  {
   "cell_type": "markdown",
   "metadata": {
    "application/vnd.databricks.v1+cell": {
     "cellMetadata": {},
     "inputWidgets": {},
     "nuid": "cf1fe507-daef-4800-bf12-44585d04a52d",
     "showTitle": false,
     "tableResultSettingsMap": {},
     "title": ""
    }
   },
   "source": [
    "A pergunta abaixo eu não tinha pensado originalmente, mas checando a tabela de campeonatos achei interessante ver os destaques negativos também.\n",
    "\n",
    "**Qual time que fez menos gols?**"
   ]
  },
  {
   "cell_type": "code",
   "execution_count": 0,
   "metadata": {
    "application/vnd.databricks.v1+cell": {
     "cellMetadata": {
      "byteLimit": 2048000,
      "rowLimit": 10000
     },
     "inputWidgets": {},
     "nuid": "2060c7ea-b2fa-410b-93bd-a36d5fd76110",
     "showTitle": true,
     "tableResultSettingsMap": {},
     "title": "Qual times que fez menos gols?"
    }
   },
   "outputs": [
    {
     "output_type": "stream",
     "name": "stdout",
     "output_type": "stream",
     "text": [
      "+-------+--------+\n|   time|total_gp|\n+-------+--------+\n|Udinese|     658|\n+-------+--------+\nonly showing top 1 row\n\n"
     ]
    }
   ],
   "source": [
    "# Registrar o DataFrame como uma view temporária\n",
    "tabela_camp.createOrReplaceTempView(\"menos_gols_view\")\n",
    "\n",
    "# Comando SQL para somar os pontos e outras estatísticas para cada time, filtrando por times que participaram de todas as temporadas\n",
    "query = \"\"\"\n",
    "    SELECT \n",
    "        time,\n",
    "        SUM(gp) AS total_gp\n",
    "    FROM menos_gols_view\n",
    "    GROUP BY time\n",
    "    HAVING SUM(jogos)=532\n",
    "    ORDER BY total_gp ASC\n",
    "\"\"\"\n",
    "\n",
    "# Executando a consulta SQL\n",
    "menos_gols = spark.sql(query)\n",
    "\n",
    "# Exibindo os resultados\n",
    "menos_gols.show(1)\n"
   ]
  },
  {
   "cell_type": "markdown",
   "metadata": {
    "application/vnd.databricks.v1+cell": {
     "cellMetadata": {},
     "inputWidgets": {},
     "nuid": "5b193623-ff61-4bb5-8888-2baedcf87006",
     "showTitle": false,
     "tableResultSettingsMap": {},
     "title": ""
    }
   },
   "source": [
    "Reparei que a quantidade de partidas entre diferentes times era muito diferente, então times que caíram para a segunda divisão e nunca mais subiram tinham poucos gols feitos, então pra isso decidi comparar apenas os times que jogaram todas as temporadas."
   ]
  },
  {
   "cell_type": "markdown",
   "metadata": {
    "application/vnd.databricks.v1+cell": {
     "cellMetadata": {},
     "inputWidgets": {},
     "nuid": "4702e089-2471-4101-9bd7-ee6dae551357",
     "showTitle": false,
     "tableResultSettingsMap": {},
     "title": ""
    }
   },
   "source": [
    "**Qual o maior saldo de gols numa temporada?**"
   ]
  },
  {
   "cell_type": "code",
   "execution_count": 0,
   "metadata": {
    "application/vnd.databricks.v1+cell": {
     "cellMetadata": {
      "byteLimit": 2048000,
      "rowLimit": 10000
     },
     "inputWidgets": {},
     "nuid": "6588a4aa-e272-4a03-9403-76f59c952be4",
     "showTitle": true,
     "tableResultSettingsMap": {},
     "title": "Qual o maior saldo de gols numa temporada?"
    }
   },
   "outputs": [
    {
     "output_type": "stream",
     "name": "stdout",
     "output_type": "stream",
     "text": [
      "+-------+-----+-----+--------+-------+--------+---+---+---+------+---------+\n|posição| Time|jogos|vitorias|empates|derrotas| gp| gc| sg|pontos|temporada|\n+-------+-----+-----+--------+-------+--------+---+---+---+------+---------+\n|      1|Inter|   38|      29|      7|       2| 89| 22| 67|    94|2023-2024|\n+-------+-----+-----+--------+-------+--------+---+---+---+------+---------+\n\n"
     ]
    }
   ],
   "source": [
    "#A consulta abaixo trará o nome do time que teve maior saldo de gols em uma temporada.\n",
    "\n",
    "# Ordenando o DataFrame pela coluna 'sg' de forma decrescente e pegando a primeira linha\n",
    "time_maior_sg = tabela_camp.orderBy(col(\"sg\"), ascending=False).limit(1)\n",
    "\n",
    "# Exibindo o time com maior quantidade de pontos\n",
    "time_maior_sg.show()"
   ]
  },
  {
   "cell_type": "markdown",
   "metadata": {
    "application/vnd.databricks.v1+cell": {
     "cellMetadata": {},
     "inputWidgets": {},
     "nuid": "ee1cb24a-810b-4c83-befd-72ab0f8d52d3",
     "showTitle": false,
     "tableResultSettingsMap": {},
     "title": ""
    }
   },
   "source": [
    "**Quais os campeões de cada temporada?**"
   ]
  },
  {
   "cell_type": "code",
   "execution_count": 0,
   "metadata": {
    "application/vnd.databricks.v1+cell": {
     "cellMetadata": {
      "byteLimit": 2048000,
      "rowLimit": 10000
     },
     "inputWidgets": {},
     "nuid": "13330218-0848-4b30-8a00-296e93fd52d1",
     "showTitle": true,
     "tableResultSettingsMap": {},
     "title": "Lista de campeões"
    }
   },
   "outputs": [
    {
     "output_type": "display_data",
     "data": {
      "text/html": [
       "<style scoped>\n",
       "  .table-result-container {\n",
       "    max-height: 300px;\n",
       "    overflow: auto;\n",
       "  }\n",
       "  table, th, td {\n",
       "    border: 1px solid black;\n",
       "    border-collapse: collapse;\n",
       "  }\n",
       "  th, td {\n",
       "    padding: 5px;\n",
       "  }\n",
       "  th {\n",
       "    text-align: left;\n",
       "  }\n",
       "</style><div class='table-result-container'><table class='table-result'><thead style='background-color: white'><tr><th>posição</th><th>Time</th><th>jogos</th><th>vitorias</th><th>empates</th><th>derrotas</th><th>gp</th><th>gc</th><th>sg</th><th>pontos</th><th>temporada</th></tr></thead><tbody><tr><td>1</td><td>Milan</td><td>38</td><td>24</td><td>10</td><td>4</td><td>65</td><td>24</td><td>41</td><td>82</td><td>2010-2011</td></tr><tr><td>1</td><td>Juventus</td><td>38</td><td>23</td><td>15</td><td>0</td><td>68</td><td>20</td><td>48</td><td>84</td><td>2011-2012</td></tr><tr><td>1</td><td>Juventus</td><td>38</td><td>27</td><td>6</td><td>5</td><td>71</td><td>24</td><td>47</td><td>87</td><td>2012-2013</td></tr><tr><td>1</td><td>Juventus</td><td>38</td><td>33</td><td>3</td><td>2</td><td>80</td><td>23</td><td>57</td><td>102</td><td>2013-2014</td></tr><tr><td>1</td><td>Juventus</td><td>38</td><td>26</td><td>9</td><td>3</td><td>72</td><td>24</td><td>48</td><td>87</td><td>2014-2015</td></tr><tr><td>1</td><td>Juventus</td><td>38</td><td>29</td><td>4</td><td>5</td><td>75</td><td>20</td><td>55</td><td>91</td><td>2015-2016</td></tr><tr><td>1</td><td>Juventus</td><td>38</td><td>29</td><td>4</td><td>5</td><td>77</td><td>27</td><td>50</td><td>91</td><td>2016-2017</td></tr><tr><td>1</td><td>Juventus</td><td>38</td><td>30</td><td>5</td><td>3</td><td>86</td><td>24</td><td>62</td><td>95</td><td>2017-2018</td></tr><tr><td>1</td><td>Juventus</td><td>38</td><td>28</td><td>6</td><td>4</td><td>70</td><td>30</td><td>40</td><td>90</td><td>2018-2019</td></tr><tr><td>1</td><td>Juventus</td><td>38</td><td>26</td><td>5</td><td>7</td><td>76</td><td>43</td><td>33</td><td>83</td><td>2019-2020</td></tr><tr><td>1</td><td>Inter</td><td>38</td><td>28</td><td>7</td><td>3</td><td>89</td><td>35</td><td>54</td><td>91</td><td>2020-2021</td></tr><tr><td>1</td><td>Milan</td><td>38</td><td>26</td><td>8</td><td>4</td><td>69</td><td>31</td><td>38</td><td>86</td><td>2021-2022</td></tr><tr><td>1</td><td>Napoli</td><td>38</td><td>28</td><td>6</td><td>4</td><td>77</td><td>28</td><td>49</td><td>90</td><td>2022-2023</td></tr><tr><td>1</td><td>Inter</td><td>38</td><td>29</td><td>7</td><td>2</td><td>89</td><td>22</td><td>67</td><td>94</td><td>2023-2024</td></tr></tbody></table></div>"
      ]
     },
     "metadata": {
      "application/vnd.databricks.v1+output": {
       "addedWidgets": {},
       "aggData": [],
       "aggError": "",
       "aggOverflow": false,
       "aggSchema": [],
       "aggSeriesLimitReached": false,
       "aggType": "",
       "arguments": {},
       "columnCustomDisplayInfos": {},
       "data": [
        [
         1,
         "Milan",
         38,
         24,
         10,
         4,
         65,
         24,
         41,
         82,
         "2010-2011"
        ],
        [
         1,
         "Juventus",
         38,
         23,
         15,
         0,
         68,
         20,
         48,
         84,
         "2011-2012"
        ],
        [
         1,
         "Juventus",
         38,
         27,
         6,
         5,
         71,
         24,
         47,
         87,
         "2012-2013"
        ],
        [
         1,
         "Juventus",
         38,
         33,
         3,
         2,
         80,
         23,
         57,
         102,
         "2013-2014"
        ],
        [
         1,
         "Juventus",
         38,
         26,
         9,
         3,
         72,
         24,
         48,
         87,
         "2014-2015"
        ],
        [
         1,
         "Juventus",
         38,
         29,
         4,
         5,
         75,
         20,
         55,
         91,
         "2015-2016"
        ],
        [
         1,
         "Juventus",
         38,
         29,
         4,
         5,
         77,
         27,
         50,
         91,
         "2016-2017"
        ],
        [
         1,
         "Juventus",
         38,
         30,
         5,
         3,
         86,
         24,
         62,
         95,
         "2017-2018"
        ],
        [
         1,
         "Juventus",
         38,
         28,
         6,
         4,
         70,
         30,
         40,
         90,
         "2018-2019"
        ],
        [
         1,
         "Juventus",
         38,
         26,
         5,
         7,
         76,
         43,
         33,
         83,
         "2019-2020"
        ],
        [
         1,
         "Inter",
         38,
         28,
         7,
         3,
         89,
         35,
         54,
         91,
         "2020-2021"
        ],
        [
         1,
         "Milan",
         38,
         26,
         8,
         4,
         69,
         31,
         38,
         86,
         "2021-2022"
        ],
        [
         1,
         "Napoli",
         38,
         28,
         6,
         4,
         77,
         28,
         49,
         90,
         "2022-2023"
        ],
        [
         1,
         "Inter",
         38,
         29,
         7,
         2,
         89,
         22,
         67,
         94,
         "2023-2024"
        ]
       ],
       "datasetInfos": [],
       "dbfsResultPath": null,
       "isJsonSchema": true,
       "metadata": {},
       "overflow": false,
       "plotOptions": {
        "customPlotOptions": {},
        "displayType": "table",
        "pivotAggregation": null,
        "pivotColumns": null,
        "xColumns": null,
        "yColumns": null
       },
       "removedWidgets": [],
       "schema": [
        {
         "metadata": "{}",
         "name": "posição",
         "type": "\"integer\""
        },
        {
         "metadata": "{}",
         "name": "Time",
         "type": "\"string\""
        },
        {
         "metadata": "{}",
         "name": "jogos",
         "type": "\"integer\""
        },
        {
         "metadata": "{}",
         "name": "vitorias",
         "type": "\"integer\""
        },
        {
         "metadata": "{}",
         "name": "empates",
         "type": "\"integer\""
        },
        {
         "metadata": "{}",
         "name": "derrotas",
         "type": "\"integer\""
        },
        {
         "metadata": "{}",
         "name": "gp",
         "type": "\"integer\""
        },
        {
         "metadata": "{}",
         "name": "gc",
         "type": "\"integer\""
        },
        {
         "metadata": "{}",
         "name": "sg",
         "type": "\"integer\""
        },
        {
         "metadata": "{}",
         "name": "pontos",
         "type": "\"integer\""
        },
        {
         "metadata": "{}",
         "name": "temporada",
         "type": "\"string\""
        }
       ],
       "type": "table"
      }
     },
     "output_type": "display_data"
    }
   ],
   "source": [
    "#A consulta abaixo trará o nome do campeão de cada temporada.\n",
    "\n",
    "tabela_camp.filter((col(\"posição\") ==1)).display()"
   ]
  },
  {
   "cell_type": "markdown",
   "metadata": {
    "application/vnd.databricks.v1+cell": {
     "cellMetadata": {},
     "inputWidgets": {},
     "nuid": "aa6c6e8c-f09c-4818-ac55-32076dc3968a",
     "showTitle": false,
     "tableResultSettingsMap": {},
     "title": ""
    }
   },
   "source": [
    "**Teve algum campeão que ganhou todos os jogos na temporada?**"
   ]
  },
  {
   "cell_type": "code",
   "execution_count": 0,
   "metadata": {
    "application/vnd.databricks.v1+cell": {
     "cellMetadata": {
      "byteLimit": 2048000,
      "rowLimit": 10000
     },
     "inputWidgets": {},
     "nuid": "83821adb-86ad-40ba-b8a1-7752febb62f8",
     "showTitle": true,
     "tableResultSettingsMap": {},
     "title": "Teve algum campeão que ganhou todos os jogos na temporada?"
    }
   },
   "outputs": [
    {
     "output_type": "stream",
     "name": "stdout",
     "output_type": "stream",
     "text": [
      "+-------+----+-----+--------+-------+--------+---+---+---+------+---------+\n|posição|Time|jogos|vitorias|empates|derrotas| gp| gc| sg|pontos|temporada|\n+-------+----+-----+--------+-------+--------+---+---+---+------+---------+\n+-------+----+-----+--------+-------+--------+---+---+---+------+---------+\n\n"
     ]
    }
   ],
   "source": [
    "#Não teve nenhum time que ganhou todas as partidas\n",
    "tabela_camp.filter((col(\"vitorias\") ==38)).show()"
   ]
  },
  {
   "cell_type": "markdown",
   "metadata": {
    "application/vnd.databricks.v1+cell": {
     "cellMetadata": {},
     "inputWidgets": {},
     "nuid": "c92c42fe-327a-4a37-b2fa-efad19025913",
     "showTitle": false,
     "tableResultSettingsMap": {},
     "title": ""
    }
   },
   "source": [
    "Como esperado, não houve nenhum time que ganhou todos os jogos em uma temporada."
   ]
  },
  {
   "cell_type": "markdown",
   "metadata": {
    "application/vnd.databricks.v1+cell": {
     "cellMetadata": {},
     "inputWidgets": {},
     "nuid": "a4f6160d-9700-4fbb-a335-21a78bc406b7",
     "showTitle": false,
     "tableResultSettingsMap": {},
     "title": ""
    }
   },
   "source": [
    "**Teve algum campeão invicto?**"
   ]
  },
  {
   "cell_type": "code",
   "execution_count": 0,
   "metadata": {
    "application/vnd.databricks.v1+cell": {
     "cellMetadata": {
      "byteLimit": 2048000,
      "rowLimit": 10000
     },
     "inputWidgets": {},
     "nuid": "dc6ab753-b873-414b-85d4-b851d400a0e6",
     "showTitle": true,
     "tableResultSettingsMap": {},
     "title": "Teve algum campeão invicto?"
    }
   },
   "outputs": [
    {
     "output_type": "stream",
     "name": "stdout",
     "output_type": "stream",
     "text": [
      "+-------+--------+-----+--------+-------+--------+---+---+---+------+---------+\n|posição|    Time|jogos|vitorias|empates|derrotas| gp| gc| sg|pontos|temporada|\n+-------+--------+-----+--------+-------+--------+---+---+---+------+---------+\n|      1|Juventus|   38|      23|     15|       0| 68| 20| 48|    84|2011-2012|\n+-------+--------+-----+--------+-------+--------+---+---+---+------+---------+\n\n"
     ]
    }
   ],
   "source": [
    "#A consulta abaixo trará o nome do time que foi campeão invicto em uma temporada.\n",
    "\n",
    "tabela_camp.filter((col(\"derrotas\") == 0) & (col(\"posição\") == 1)).show()"
   ]
  },
  {
   "cell_type": "markdown",
   "metadata": {
    "application/vnd.databricks.v1+cell": {
     "cellMetadata": {},
     "inputWidgets": {},
     "nuid": "ce9c1035-cb46-41fe-bf11-f2b67038bc99",
     "showTitle": false,
     "tableResultSettingsMap": {},
     "title": ""
    }
   },
   "source": [
    "**Qual time ganhou com a maior quantidade de pontos em uma temporada?**"
   ]
  },
  {
   "cell_type": "code",
   "execution_count": 0,
   "metadata": {
    "application/vnd.databricks.v1+cell": {
     "cellMetadata": {
      "byteLimit": 2048000,
      "rowLimit": 10000
     },
     "inputWidgets": {},
     "nuid": "e15b933d-7906-4e69-895a-48081727a2a9",
     "showTitle": true,
     "tableResultSettingsMap": {},
     "title": "Qual time ganhou com a maior quantidade de pontos em uma temporada?"
    }
   },
   "outputs": [
    {
     "output_type": "stream",
     "name": "stdout",
     "output_type": "stream",
     "text": [
      "+-------+--------+-----+--------+-------+--------+---+---+---+------+---------+\n|posição|    Time|jogos|vitorias|empates|derrotas| gp| gc| sg|pontos|temporada|\n+-------+--------+-----+--------+-------+--------+---+---+---+------+---------+\n|      1|Juventus|   38|      33|      3|       2| 80| 23| 57|   102|2013-2014|\n+-------+--------+-----+--------+-------+--------+---+---+---+------+---------+\n\n"
     ]
    }
   ],
   "source": [
    "#A consulta abaixo trará o nome do time que fez a maior quantidade de pontos em uma única temporada.\n",
    "\n",
    "# Ordenando o DataFrame pela coluna 'pontos' de forma decrescente e pegando a primeira linha\n",
    "time_maior_pontos = tabela_camp.orderBy(col(\"pontos\"), ascending=False).limit(1)\n",
    "\n",
    "# Exibindo o time com maior quantidade de pontos\n",
    "time_maior_pontos.show()"
   ]
  },
  {
   "cell_type": "markdown",
   "metadata": {
    "application/vnd.databricks.v1+cell": {
     "cellMetadata": {},
     "inputWidgets": {},
     "nuid": "b1b25080-610c-4330-8360-b9ff67409a83",
     "showTitle": false,
     "tableResultSettingsMap": {},
     "title": ""
    }
   },
   "source": [
    "Abaixo está a lista de times que participaram de todas as temporadas"
   ]
  },
  {
   "cell_type": "code",
   "execution_count": 0,
   "metadata": {
    "application/vnd.databricks.v1+cell": {
     "cellMetadata": {
      "byteLimit": 2048000,
      "rowLimit": 10000
     },
     "inputWidgets": {},
     "nuid": "2f60d059-8a0f-4263-8e57-d7749d08d181",
     "showTitle": true,
     "tableResultSettingsMap": {},
     "title": "Quais times participaram de todas as temporadas?"
    }
   },
   "outputs": [
    {
     "output_type": "stream",
     "name": "stdout",
     "output_type": "stream",
     "text": [
      "+----------+---------------------+\n|      time|quantidade_temporadas|\n+----------+---------------------+\n|     Lazio|                   14|\n|      Roma|                   14|\n|     Milan|                   14|\n|Fiorentina|                   14|\n|     Inter|                   14|\n|    Napoli|                   14|\n|  Juventus|                   14|\n|   Udinese|                   14|\n+----------+---------------------+\n\n"
     ]
    }
   ],
   "source": [
    "from pyspark.sql.functions import countDistinct\n",
    "\n",
    "# Agrupar pelos times e contar as temporadas distintas\n",
    "quantidade_temporadas = tabela_camp.groupBy(\"time\").agg(countDistinct(\"temporada\").alias(\"quantidade_temporadas\"))\n",
    "\n",
    "# No período importado tivemos 14 campeonatos, então temos que filtrar para mostrar apenas os times com quantidade_temporadas = 14\n",
    "quantidade_temporadas_14 = quantidade_temporadas.filter(quantidade_temporadas[\"quantidade_temporadas\"] == 14)\n",
    "\n",
    "# Exibir os resultados\n",
    "quantidade_temporadas_14.show()\n"
   ]
  },
  {
   "cell_type": "markdown",
   "metadata": {
    "application/vnd.databricks.v1+cell": {
     "cellMetadata": {},
     "inputWidgets": {},
     "nuid": "2dbd71db-83ea-4d66-9d8e-a8a09457d9f9",
     "showTitle": false,
     "tableResultSettingsMap": {},
     "title": ""
    }
   },
   "source": [
    "**Qual time mais vezes campeão?**"
   ]
  },
  {
   "cell_type": "code",
   "execution_count": 0,
   "metadata": {
    "application/vnd.databricks.v1+cell": {
     "cellMetadata": {
      "byteLimit": 2048000,
      "rowLimit": 10000
     },
     "inputWidgets": {},
     "nuid": "8779ab30-48da-454e-8e87-da17c2517bb2",
     "showTitle": true,
     "tableResultSettingsMap": {},
     "title": "Qual time mais vezes campeão?"
    }
   },
   "outputs": [
    {
     "output_type": "stream",
     "name": "stdout",
     "output_type": "stream",
     "text": [
      "+--------+-----+\n|    time|count|\n+--------+-----+\n|Juventus|    9|\n+--------+-----+\nonly showing top 1 row\n\n"
     ]
    }
   ],
   "source": [
    "#A consulta abaixo trará o nome do time que foi campeão por mais vezes.\n",
    "\n",
    "# Filtrar os times que foram campeões (posição == 1)\n",
    "campeoes = tabela_camp.filter(col(\"posição\") == 1)\n",
    "\n",
    "# Contar quantas vezes cada time foi campeão\n",
    "campeoes_count = campeoes.groupBy(\"time\").count()\n",
    "\n",
    "# Ordenar pelo número de campeonatos (do maior para o menor)\n",
    "campeoes_count.orderBy(col(\"count\"), ascending=False).show(1)\n"
   ]
  },
  {
   "cell_type": "markdown",
   "metadata": {
    "application/vnd.databricks.v1+cell": {
     "cellMetadata": {},
     "inputWidgets": {},
     "nuid": "8d4f6fd3-2336-4b7f-a7d3-66de97299047",
     "showTitle": false,
     "tableResultSettingsMap": {},
     "title": ""
    }
   },
   "source": [
    "--------------------------------------------------------------------------------------------"
   ]
  }
 ],
 "metadata": {
  "application/vnd.databricks.v1+notebook": {
   "computePreferences": null,
   "dashboards": [],
   "environmentMetadata": {
    "base_environment": "",
    "environment_version": "1"
   },
   "inputWidgetPreferences": null,
   "language": "python",
   "notebookMetadata": {
    "mostRecentlyExecutedCommandWithImplicitDF": {
     "commandId": -1,
     "dataframes": [
      "_sqldf"
     ]
    },
    "pythonIndentUnit": 4
   },
   "notebookName": "MVP Frederico Gribaudi_sprint_1",
   "widgets": {}
  }
 },
 "nbformat": 4,
 "nbformat_minor": 0
}